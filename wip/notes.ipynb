{
 "cells": [
  {
   "cell_type": "markdown",
   "metadata": {},
   "source": [
    "https://uk.wikipedia.org/wiki/Закон_Габбла_—_Леметра\n",
    "\n",
    "https://uk.wikipedia.org/wiki/Едвін_Габбл\n",
    "\n",
    "\n"
   ]
  }
 ],
 "metadata": {
  "language_info": {
   "name": "python"
  }
 },
 "nbformat": 4,
 "nbformat_minor": 2
}
