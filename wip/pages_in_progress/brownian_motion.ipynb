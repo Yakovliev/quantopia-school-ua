{
 "cells": [
  {
   "cell_type": "markdown",
   "id": "8aa5636e",
   "metadata": {},
   "source": [
    "# Броунівський рух"
   ]
  },
  {
   "cell_type": "markdown",
   "id": "9638d340",
   "metadata": {},
   "source": [
    "<p><a href=\"https://commons.wikimedia.org/wiki/File:Brownian_motion_large.gif#/media/File:Brownian_motion_large.gif\"><img src=\"https://upload.wikimedia.org/wikipedia/commons/c/c2/Brownian_motion_large.gif\" alt=\"Brownian motion large.gif\" height=\"240\" width=\"240\"></a><br>By <a href=\"//commons.wikimedia.org/w/index.php?title=User:Lookang&amp;action=edit&amp;redlink=1\" class=\"new\" title=\"User:Lookang (page does not exist)\">Lookang</a> Author of computer model: Francisco Esquembre, Fu-Kwun and lookang - <span class=\"int-own-work\" lang=\"en\">Own work</span>, <a href=\"https://creativecommons.org/licenses/by-sa/3.0\" title=\"Creative Commons Attribution-Share Alike 3.0\">CC BY-SA 3.0</a>, <a href=\"https://commons.wikimedia.org/w/index.php?curid=19140345\">Link</a></p>"
   ]
  },
  {
   "cell_type": "markdown",
   "id": "a064fbe4",
   "metadata": {},
   "source": [
    "https://en.wikipedia.org/wiki/Newton%27s_laws_of_motion"
   ]
  }
 ],
 "metadata": {
  "language_info": {
   "name": "python"
  }
 },
 "nbformat": 4,
 "nbformat_minor": 5
}
