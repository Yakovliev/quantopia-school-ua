{
 "cells": [
  {
   "cell_type": "markdown",
   "id": "4d234a77",
   "metadata": {},
   "source": [
    "# Фазові переходи (в процесі)"
   ]
  },
  {
   "cell_type": "markdown",
   "id": "d2f82638",
   "metadata": {},
   "source": [
    "## Додаткові матеріали\n",
    "\n",
    "* https://uk.wikipedia.org/wiki/Фазовий_перехід\n",
    "\n",
    "\n",
    "## Додаткові матеріали (англійською)\n",
    "\n",
    "* https://en.wikipedia.org/wiki/Phase_transition\n",
    "\n"
   ]
  }
 ],
 "metadata": {
  "language_info": {
   "name": "python"
  }
 },
 "nbformat": 4,
 "nbformat_minor": 5
}
