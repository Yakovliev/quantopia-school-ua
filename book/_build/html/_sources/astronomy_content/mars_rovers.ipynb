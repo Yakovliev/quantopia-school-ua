{
 "cells": [
  {
   "cell_type": "markdown",
   "metadata": {},
   "source": [
    "https://uk.wikipedia.org/wiki/Соджорнер_(марсохід)\n",
    "https://en.wikipedia.org/wiki/Sojourner_(rover)\n",
    "https://en.wikipedia.org/wiki/Mars_Pathfinder\n",
    "\n",
    "https://uk.wikipedia.org/wiki/Оппортьюніті\n",
    "https://en.wikipedia.org/wiki/Mars_rover\n"
   ]
  }
 ],
 "metadata": {
  "language_info": {
   "name": "python"
  }
 },
 "nbformat": 4,
 "nbformat_minor": 2
}
