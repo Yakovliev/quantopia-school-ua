{
 "cells": [
  {
   "cell_type": "markdown",
   "id": "21d24f94",
   "metadata": {},
   "source": [
    "# Сонце - найближча зоря"
   ]
  },
  {
   "cell_type": "markdown",
   "id": "434340ad",
   "metadata": {},
   "source": [
    "````{div} full-width\n",
    "\n",
    "<iframe width=\"100%\", height=\"550\" src=\"https://eyes.nasa.gov/apps/solar-system/#/sun?embed=true\" allowfullscreen ></iframe>\n",
    "\n",
    "````"
   ]
  },
  {
   "cell_type": "markdown",
   "id": "705cf5a7",
   "metadata": {},
   "source": [
    "<p><img src=\"https://upload.wikimedia.org/wikipedia/commons/8/83/The_Sun_in_white_light.jpg\" alt=\"White glowing ball with black sunspots\" height=\"550\" width=\"550\">\n",
    "<br>\n",
    "Рис. 1. Сонце через прозорий сонячний фільтр.\n",
    "<a href=\"https://creativecommons.org/licenses/by-sa/4.0\" title=\"Creative Commons Attribution-Share Alike 4.0\">CC BY-SA 4.0</a>, <a href=\"https://commons.wikimedia.org/w/index.php?curid=94650721\">Link</a>. <a href=\"https://en.wikipedia.org/wiki/Sun\">Wiki</a></p>"
   ]
  },
  {
   "cell_type": "markdown",
   "id": "9f4af4eb",
   "metadata": {},
   "source": [
    "## Фізичні характеристики Сонця. Будова Сонця та джерела його енергії\n",
    "\n",
    "Сонце представляє собою одну з численних зір нашої Галактики, яка виконує роль центрального світила Сонячної системи. Його вік оцінюється приблизно в 4.6 мільярдів років. Завдяки сонячному теплу та світлу на нашій планеті існує життя. Відстань між Сонцем і Землею складає лише 150 мільйонів кілометрів, що дозволяє нам спостерігати його як яскравий диск на небосхилі. Дослідження Сонця відіграє надзвичайно важливу роль у розвитку людської цивілізації та має значне практичне застосування.\n",
    "\n",
    "Визначення температури Сонця базується на застосуванні законів випромінювання \"абсолютно чорного тіла\". Сонячне випромінювання містить електромагнітні хвилі різноманітних довжин, які людське око інтерпретує як біле світло. Насправді це світло є комбінацією всього спектра електромагнітних хвиль, що охоплює діапазон від червоного до фіолетового. При цьому максимум енергії сонячного випромінювання припадає на жовто-зелену частину спектра, через що астрономи класифікують наше Сонце як жовту зорю, хоча воно випромінює біле світло, а значить і колір має білий. На фотосфері - видимій поверхні Сонця - температура сягає 5780 К.\n",
    "\n",
    "Світність Сонця $(Ls)$ характеризує загальну потужність його випромінювання, тобто кількість енергії, яку випромінює сонячна поверхня в усіх напрямках за одиницю часу. Щоб обчислити світність, необхідно виміряти сонячну сталу $q$ - це енергія, яку отримує 1 квадратний метр земної поверхні за 1 секунду при розташуванні Сонця в зеніті. Світність Сонця розраховується множенням значення сонячної сталої на площу сфери з радіусом $R$:\n",
    "\n",
    "$$Ls = 4πR^2 \\cdot q = 4 \\cdot 10^{26} \\text{ Вт}$$\n",
    "\n",
    "де $R = 1.5 \\cdot 10^{11}$ м відповідає відстані від Землі до Сонця.\n",
    "\n",
    "> **Сонячна стала $q$** - кількість енергії, що надходить на 1 м² земної поверхні за 1 секунду, коли сонячні промені падають перпендикулярно до поверхні. Сучасні вимірювання на межі верхніх шарів атмосфери Землі показують значення сонячної сталої $q = 1.4$ кВт/м²."
   ]
  },
  {
   "cell_type": "markdown",
   "id": "9a0f599d",
   "metadata": {},
   "source": [
    "## Будова Сонця\n",
    "\n",
    "Сонце являє собою гігантську розжарену кулю плазми зі складною структурою зовнішніх та внутрішніх шарів. Внаслідок фізичних процесів у глибинах Сонця постійно генерується енергія, яка передається до зовнішніх шарів і розподіляється на дедалі більшу площу. Це призводить до поступового зниження температури сонячної плазми в напрямку від центру до поверхні. Виходячи з температурних характеристик і особливостей фізичних процесів, структуру Сонця умовно поділяють на кілька основних областей з різним фізичним станом речовини та механізмами передачі енергії: ядро, зона радіації, конвективна зона та фотосфера."
   ]
  },
  {
   "cell_type": "markdown",
   "id": "d183dc83",
   "metadata": {},
   "source": [
    "<p><img src=\"https://upload.wikimedia.org/wikipedia/commons/5/56/Sun_poster_uk.svg\" alt=\"Sun poster uk.svg\" height=\"550\" width=\"833\">\n",
    "<br>\n",
    "Рис. 1. Сонце у розрізі. Ядро Сонця є джерелом нейтрино.\n",
    "Автор: <a class=\"external free\" href=\"https://commons.wikimedia.org/wiki/User:Kelvinsong\">https://commons.wikimedia.org/wiki/User:Kelvinsong</a> - <a href=\"https://commons.wikimedia.org/wiki/File:Sun_poster.svg\" title=\"File:Sun poster.svg\">File:Sun_poster.svg</a>, <a href=\"https://creativecommons.org/licenses/by-sa/3.0\" title=\"Creative Commons Attribution-Share Alike 3.0\">CC BY-SA 3.0</a>, <a href=\"https://commons.wikimedia.org/w/index.php?curid=34651935\">Посилання</a>. <a href=\"https://uk.wikipedia.org/wiki/Сонце\">Wiki</a></p>"
   ]
  },
  {
   "cell_type": "markdown",
   "id": "6a6ee4c5",
   "metadata": {},
   "source": [
    "| Середня відстань до Землі | 1.5 · 10¹¹ м |\n",
    "| ------------------------ | ------------ |\n",
    "| Радіус                   | 696340 км (109 земних радіуса)       |\n",
    "| Середній діаметр         | 1.39 · 10⁹ м |\n",
    "| Маса                     | 1.98855 · 10³⁰ кг (330000 мас Землі) |\n",
    "| Середня густина          | 1408 кг/м³    |\n",
    "| Прискорення вільного падіння на екваторі | 274 м/с² |\n",
    "| Температура ядра         | 1.5 · 10⁷ K   |\n",
    "| Температура корони       | від 1 до 3 млн К   |\n",
    "| Температура фотосфери    | 5800 K        |\n",
    "| Світність                | 3.846 · 10²⁶ Вт   |\n",
    "| Хімічний склад за масою,% | H₂ - 73.46, He - 24.85 |"
   ]
  },
  {
   "cell_type": "markdown",
   "id": "d7641cdf",
   "metadata": {},
   "source": [
    "> **Ядро** - центральна область Сонця, де відбуваються термоядерні реакції, які є джерелом сонячної енергії. Саме в ядрі відбувається термоядерний синтез, за якого гідроген перетворюється на гелій, що утворює величезну кількість енергії. Ядро, попри відносно малий об'єм, містить значну частину сонячної маси завдяки надзвичайно високій густині, яка зростає в напрямку до центру. Колосальний тиск у поєднанні з надвисокою температурою створюють умови для протікання термоядерних реакцій. Ядро простягається приблизно на 20-25% радіуса Сонця (139000-175000 км). Така розбіжність в оцінці радіуса ядра пояснюється тим, що воно не має чіткої межі і різні фізичні моделі (а якщо точніше сказати, то різні критерії) оцінюють радіус ядра по різному. Температура ядра Сонця в його центрі становить близько 15 000 000 К і зменшується при віддаленні від центра ядра.\n",
    "\n",
    "Середня густина Сонця нижча, ніж у Землі, але в його ядрі щільність досягає надзвичайно високих значень (150 000 кг/м³)."
   ]
  },
  {
   "cell_type": "markdown",
   "id": "ba8786db",
   "metadata": {},
   "source": [
    "> **Зона радіації** або **зона променистого переносу** оточує ядро і простягається на відстань починаючи від зовнішньої межі ядра Сонця і до 70% радіуса Сонця. У цій області енергія передається через механізм променистого переносу - послідовне поглинання та перевипромінювання квантів електромагнітної енергії речовиною. Перевипромінений фотон/квант має напрямок, що не залежить від напрямку поглинутого фотону/кванту і може як потрапити в наступний шар плазми, так і повернутися назад, у нижні шари. Через це проміжок часу, за який багатократно перевипромінений фотон (що початково виник в ядрі) досягає конвективної зони, може становити мільйони років. Для Сонця цей час становить близько 170 тисяч років (у середньому). Температура зони променистого переносу падає від 7 000 000 К до 2 000 000 К від внутрішньої до зовнішньої межі цієї зони.\n",
    "\n",
    "> **Тахоклин** - перехідна область в Сонці (та інших зорях з масою більше за 0.3 маси Сонця) між зоною променистого переносу та конвективною зоною, що диференціально обертається. Диференціальне обертання - це тип обертання, за якого різні частини об'єкта обертаються навколо спільної осі обертання з різною кутовою швидкістю.\n",
    "\n",
    "> **Конвективна зона** - шар Сонця, в якому енергія передається через механізм конвекції: гарячі потоки речовини піднімаються вгору, а охолоджені опускаються донизу. Цей шар розташований між верхньою межею зони радіації та видимою поверхнею Сонця (фотосферою). Товщина цієї зони становить близько 200 000 км. У нижній частині конвекційної зони температура становить близько 2 000 000° C. Це достатньо «холодно», щоб важчі іони (такі як вуглець, азот, кисень, кальцій і залізо) могли утримати частину своїх електронів. Це робить матеріал більш непрозорим, через що випромінювання важче проникає. Це затримує тепло, що зрештою робить рідину нестабільною, і вона починає «кипіти» і переміщуватись за рахунок конвекції. На зовнішній частині конвективної зони, температура падає до близько 5800 К. \n",
    "\n",
    "Гаряча речовина у конвективній зоні піднімається до поверхні, віддає енергію, охолоджується і опускається назад. Така циркуляція створює характерну грануляційну структуру фотосфери, яку можна спостерігати з Землі."
   ]
  },
  {
   "cell_type": "markdown",
   "id": "9c9684b3",
   "metadata": {},
   "source": [
    "**Атмосфера** Сонця складається з трьох основних шарів. \n",
    "\n",
    "> Найнижчий шар атмосфери - **[фотосфера](https://en.wikipedia.org/wiki/Photosphere)** - має товщину близько 100-400 км і сприймається нами як видима поверхня Сонця. Густина газів у фотосфері мільйони разів менша за густину земної атмосфери біля поверхні, а температура зменшується з висотою. Середні шари фотосфери, випромінювання яких переважно досягає Землі, мають температуру 5800 К.\n",
    "\n",
    "Примітка: температура фотосфери змінюється від 4400 К до 6600 К, а середня температура становить 5772 К, тобто близько 5800 К, як і зазначено вище.\n",
    "\n",
    "Фотосфера практично повністю поглинає й перевипромінює енергію, що йде з глибини зорі, тобто практично все світло Сонця, яке ми бачимо, приходить саме з фотосфери. Зазвичай саме фотосферу використовують для визначення радіуса зорі. Оскільки товщина фотосфери для більшості зір набагато менша за сам радіус, ми бачимо край Сонця чітким, а радіус виявляється досить точно визначеним, попри відсутність у зір твердої поверхні.\n",
    "\n",
    "За допомогою сонячного телескопа у фотосфері можна спостерігати специфічну зернисту структуру - грануляцію, яка є прямим проявом конвективних процесів. \n",
    "\n",
    "На фотосфері можна спостерігати сонячні плями - темніші області з сильним магнітним полем і нижчою температурою (близько 4 000 К). Сонячні плями часто супроводжуються спалахами та викидами коронарної маси.\n",
    "\n",
    "> Хромосфера («сфера кольору», від давньогрецьких слів χρῶμα (khrôma) «колір» і σφαῖρα (sphaîra) «сфера») - другий шар атмосфери зірки, розташований над фотосферою та нижче сонячної корони. В атмосфері Сонця хромосфера має висоту приблизно від 3000 до 5000 кілометрів, або трохи більше 1% радіуса Сонця при максимальній товщині. Температура хромосфери коливається від 4000 К прямо над фотосферою до 25 000 К (по деяким джерелам, 35 000 К) у верхній частині хромосфери.\n",
    "\n",
    "Назва була запропонована англійським астрономом Норманом Лок'єром після проведення систематичних спостережень за Сонцем, щоб відрізнити шар від фотосфери, що випромінює біле світло. Хромосфера (\"сфера кольору\") отримала свою назву через червонуватий відтінок, який можна спостерігати під час повних сонячних затемнень. \n",
    "\n",
    "Хромосфера має характерний червоний колір через електромагнітне випромінювання в спектральній лінії гідрогену $H_{\\alpha}$ ([Wiki](https://en.wikipedia.org/wiki/Hydrogen-alpha)). Інформація про хромосферу в основному отримана шляхом аналізу випромінюваного нею електромагнітного випромінювання.\n"
   ]
  },
  {
   "cell_type": "markdown",
   "id": "21d153d5",
   "metadata": {},
   "source": [
    "<p><img src=\"https://upload.wikimedia.org/wikipedia/commons/8/87/Today%27s_Ha_Sun_-_Flickr_-_upsidedown_astronomer.png\" alt=\"Today's Ha Sun - Flickr - upsidedown astronomer.png\" height=\"500\" width=\"500\">\n",
    "<br>\n",
    "Рис. Спостереження Сонця через оптичний телескоп з Н-альфа-фільтром.\n",
    "By <a rel=\"nofollow\" class=\"external text\" href=\"https://www.flickr.com/people/106648653@N05\">Paul Stewart</a> from Timaru, New Zealand - <a rel=\"nofollow\" class=\"external text\" href=\"https://www.flickr.com/photos/astrostew/24930153209/\">Today's Ha Sun</a>, <a href=\"https://creativecommons.org/licenses/by/2.0\" title=\"Creative Commons Attribution 2.0\">CC BY 2.0</a>, <a href=\"https://commons.wikimedia.org/w/index.php?curid=92837572\">Link</a>. <a href=\"https://en.wikipedia.org/wiki/Hydrogen-alpha\">Wiki</a></p>"
   ]
  },
  {
   "cell_type": "markdown",
   "id": "43788df9",
   "metadata": {},
   "source": [
    "> **Сонячний перехідний шар** розташовується безпосередньо над хромосферою і під надзвичайно гарячою короною. Його товщина оцінюється в декілька сотень кілометрів (цей шар надзвичайно вузький порівняно із шарами, які він розділяє). Різкий стрибок температури - це його найбільш визначальна риса перехідного шару. Температура неймовірно швидко зростає, підвищуючись приблизно від 25 000 К у верхній частині хромосфери до понад 1 мільйона Кельвінів у основі корони.\n",
    "\n",
    "Різкий стрибок температури перехідного шару досі залишається предметом наукових досліджень."
   ]
  },
  {
   "cell_type": "markdown",
   "id": "2b56718c",
   "metadata": {},
   "source": [
    "<p><img src=\"https://upload.wikimedia.org/wikipedia/commons/0/0b/Temperature-height_graph_for_solar_atmosphere.jpg\" alt=\"Temperature-height graph for solar atmosphere.jpg\" height=\"487\" width=\"483\">\n",
    "<br>\n",
    "Рис. Приблизна температура в сонячній атмосфері відносно висоти над поверхнею Сонця.\n",
    "By Andrew Fraknoi, David Morrison, Sidney C. Wolff - <a rel=\"nofollow\" class=\"external free\" href=\"https://openstax.org/books/astronomy/pages/15-1-the-structure-and-composition-of-the-sun\">https://openstax.org/books/astronomy/pages/15-1-the-structure-and-composition-of-the-sun</a>, <a href=\"https://creativecommons.org/licenses/by-sa/4.0\" title=\"Creative Commons Attribution-Share Alike 4.0\">CC BY-SA 4.0</a>, <a href=\"https://commons.wikimedia.org/w/index.php?curid=110961545\">Link</a>. <a href=\"https://en.wikipedia.org/wiki/Solar_transition_region\">Wiki</a></p>"
   ]
  },
  {
   "cell_type": "markdown",
   "id": "8fcfe888",
   "metadata": {},
   "source": [
    "> Найвіддаленіший і найбільший шар сонячної атмосфери - **сонячна корона** - характеризується надзвичайно високою температурою, яка сягає від 1 до 3 млн градусів Кельвіна. Товщина сонячної корони Cонця оцінюється від 1 до 3 радіусів Сонця (це оцінка розмірів корони під час Сонячних затемнень), однак немає якоїсь чіткої межі, де закінчується корона, оскільки вона плавно перетікає в сонячний вітер.\n"
   ]
  },
  {
   "cell_type": "markdown",
   "id": "2799b292",
   "metadata": {},
   "source": [
    "<p><img src=\"https://upload.wikimedia.org/wikipedia/commons/c/cd/Total_Solar_Eclipse_8-21-17.jpg\" alt=\"Total Solar Eclipse 8-21-17.jpg\" height=\"550\" width=\"413\">\n",
    "<br>\n",
    "Рис. Сонячна корона під час повного сонячного затемнення 21 серпня 2017 року.\n",
    "By <a href=\"https://commons.wikimedia.org/wiki/User:Msadler13\" title=\"User:Msadler13\">Michael S Adler</a> - <span class=\"int-own-work\" lang=\"en\">Own work</span>, <a href=\"https://creativecommons.org/licenses/by-sa/4.0\" title=\"Creative Commons Attribution-Share Alike 4.0\">CC BY-SA 4.0</a>, <a href=\"https://commons.wikimedia.org/w/index.php?curid=74328931\">Link</a>. <a href=\"https://en.wikipedia.org/wiki/Stellar_corona\">Wiki</a></p>"
   ]
  },
  {
   "cell_type": "markdown",
   "id": "683d06a4",
   "metadata": {},
   "source": [
    "> **Геліосфера** — зона у космічному просторі навколо Сонця, оточена міжзоряним простором, що перебуває під впливом сонячного вітру. Майже вся речовина в межах геліосфери походить із Сонця. \n",
    "\n",
    "Межею геліосфери вважають геліопаузу, де потік сонячної плазми врівноважується гідродинамічним та магнітним тиском міжзоряного газу. За сучасними даними ця межа розташована на відстані близько 100 а.о. і деякою мірою залежить від сонячної активності. Форма геліосфери несиметрична, що зумовлено рухом Сонця відносно навколишнього середовища.\n",
    "\n",
    "На відстані 60–70 а.о. (10 млрд км) від Сонця сонячний вітер рухається зі швидкістю понад 200 км/с, але внаслідок взаємодії з міжзоряним простором дуже швидко гальмується. Межа, на якій відбувається гальмування сонячного вітру міжзоряним простором, має назву головної ударної хвилі (англ. termination shock). Цієї межі, яка розташована на відстані близько 90 а.о. від Сонця, досягли 2003 року космічні апарати Вояджер-1 та Вояджер-2 та у інших роках космічні апарати \" Піонер 10\" й \"Піонер 11\"."
   ]
  },
  {
   "cell_type": "markdown",
   "id": "041d990d",
   "metadata": {},
   "source": [
    "<p><img src=\"https://upload.wikimedia.org/wikipedia/commons/4/4f/Voyager_1_entering_heliosheath_region.jpg\" alt=\"Voyager 1 entering heliosheath region.jpg\" height=\"500\" width=\"741\">\n",
    "<br>\n",
    "Рис. Умовне зображення геліосфери та розташування у ній космічних апаратів Вояджер-1 та Вояджер-2.\n",
    "Автор: NASA/Walt Feimer, Суспільне надбання (Public Domain), <a href=\"https://commons.wikimedia.org/w/index.php?curid=165239\">Посилання</a>. <a href=\"https://uk.wikipedia.org/wiki/Геліосфера\">Wiki</a></p>"
   ]
  },
  {
   "cell_type": "markdown",
   "id": "609199ed",
   "metadata": {},
   "source": [
    "<p><img src=\"https://upload.wikimedia.org/wikipedia/commons/1/19/72408main_ACD97-0036-1.jpg\" alt=\"72408main ACD97-0036-1.jpg\" height=\"500\" width=\"656\">\n",
    "<br>\n",
    "Рис. Діаграма структури геліосфери, форми приблизні та засновуються на даних апарата Interstellar Boundary Explorer.\n",
    "Суспільне надбання (Public Domain), <a href=\"https://commons.wikimedia.org/w/index.php?curid=138894\">Посилання</a>. <a href=\"https://uk.wikipedia.org/wiki/Геліосфера\">Wiki</a></p>"
   ]
  },
  {
   "cell_type": "markdown",
   "id": "343aad1c",
   "metadata": {},
   "source": [
    "Активність Сонця змінюється циклічно приблизно кожні 11 років. Ці цикли впливають на кількість сонячних плям, інтенсивність сонячного випромінювання та інші магнітні явища.\n",
    "\n",
    "Цікаво зауважити, що питома потужність енергогенерації Сонця досить незначна: один кілограм сонячної речовини генерує лише близько 0,001 Вт енергії. Для порівняння, людське тіло випромінює в середньому 100 Вт, що приблизно в тисячу разів перевищує питому потужність сонячної речовини такої ж маси. Проте унікальність Сонця полягає в тому, що воно підтримує цей рівень випромінювання протягом мільярдів років, забезпечуючи стабільну енергетичну підтримку Землі та інших тіл Сонячної системи."
   ]
  },
  {
   "cell_type": "markdown",
   "id": "18640576",
   "metadata": {},
   "source": [
    "## Сучасне дослідження Сонця\n",
    "\n",
    "**[SOHO (Solar and Heliospheric Observatory)](https://soho.nascom.nasa.gov/)**\n",
    "\n",
    "Місія спільного проекту NASA та ESA, спрямована на безперервне спостереження сонячної активності, вивчення корони, сонячного вітру та внутрішніх процесів в Сонці. Космічний апарат для спостереження за Сонцем був запущений 1995 року, а розпочав роботу у травні 1996 року. Розроблений NASA та ESA. Найбільша за своєю функціональністю космічна обсерваторія спостереження за Сонцем на початку XXI ст. Перебуває на геліоцентричній орбіті в точці Лагранжа L1 між Землею та Сонцем."
   ]
  },
  {
   "cell_type": "markdown",
   "id": "6a1bbeb6",
   "metadata": {},
   "source": [
    "<p><img src=\"https://upload.wikimedia.org/wikipedia/commons/6/6f/NASA_SOHO_spacecraft.png\" alt=\"NASA SOHO spacecraft.png\" height=\"500\" width=\"476\">\n",
    "<br>\n",
    "Рис. Супутник SOHO.\n",
    "<a rel=\"nofollow\" class=\"external free\" href=\"https://sohowww.nascom.nasa.gov/gallery/images/SOHOLower2.html\">http://sohowww.nascom.nasa.gov/gallery/images/SOHOLower2.html</a>, Public Domain, <a href=\"https://commons.wikimedia.org/w/index.php?curid=28983655\">Link</a>. <a href=\"https://uk.wikipedia.org/wiki/SOHO\">Wiki</a></p>"
   ]
  },
  {
   "cell_type": "markdown",
   "id": "af1f9811",
   "metadata": {},
   "source": [
    "<p><img src=\"https://upload.wikimedia.org/wikipedia/commons/8/88/Lagrange_points.jpg\" alt=\"Зображення\" height=\"500\" width=\"571\">\n",
    "<br>\n",
    "Рис. Точки Лагранжа та стабільність у Лагранжевих точках системи двох тіл зі значною різницею мас (напр. Сонце - Земля). Стабільні орбіти навколо точок L4 та L5 позначено синіми трикутниками.\n",
    "Автор: NASA - <a rel=\"nofollow\" class=\"external free\" href=\"https://map.gsfc.nasa.gov/m_mm/ob_techorbit1.html\">http://map.gsfc.nasa.gov/m_mm/ob_techorbit1.html</a>, Суспільне надбання (Public Domain), <a href=\"https://commons.wikimedia.org/w/index.php?curid=672579\">Посилання</a>. <a href=\"https://uk.wikipedia.org/wiki/Точки_Лагранжа\">Wiki</a></p>"
   ]
  },
  {
   "cell_type": "markdown",
   "id": "82159539",
   "metadata": {},
   "source": [
    "<p><img src=\"https://upload.wikimedia.org/wikipedia/commons/d/d0/Lagrangian_points_equipotential.gif\" alt=\"Відео\" height=\"384\" width=\"512\">\n",
    "<br>\n",
    "Рис. Точки Лагранжа\n",
    "Автор: <a href=\"https://commons.wikimedia.org/wiki/User:Cmglee\" title=\"User:Cmglee\">cmglee</a> - <span class=\"int-own-work\" lang=\"uk\">Власна робота</span>, <a href=\"https://creativecommons.org/licenses/by-sa/3.0\" title=\"Creative Commons Attribution-Share Alike 3.0\">CC BY-SA 3.0</a>, <a href=\"https://commons.wikimedia.org/w/index.php?curid=24680025\">Посилання</a>. <a href=\"https://uk.wikipedia.org/wiki/Точки_Лагранжа\">Wiki</a></p>"
   ]
  },
  {
   "cell_type": "markdown",
   "id": "a8b1114a",
   "metadata": {},
   "source": [
    "<p><img src=\"https://upload.wikimedia.org/wikipedia/commons/7/74/Big_Splash_Theia.gif\" alt=\"Big Splash Theia.gif\" height=\"501\" width=\"600\">\n",
    "<br>\n",
    "Рис. Ілюстрація зіткнення Теї з Землею, та утворення Місяця.\n",
    "<a href=\"http://creativecommons.org/licenses/by-sa/3.0/\" title=\"Creative Commons Attribution-Share Alike 3.0\">CC BY-SA 3.0</a>, <a href=\"https://commons.wikimedia.org/w/index.php?curid=338893\">Посилання</a>. <a href=\"https://uk.wikipedia.org/wiki/Тея_(планета)\">Wiki</a></p>"
   ]
  },
  {
   "cell_type": "markdown",
   "id": "12f08f5c",
   "metadata": {},
   "source": [
    "**[SDO (Solar Dynamics Observatory)](https://sdo.gsfc.nasa.gov/)**\n",
    "\n",
    "Забезпечує високоточну і часту зйомку Сонця в різних діапазонах хвиль, що дозволяє дослідникам в реальному часі аналізувати змінність сонячної активності. Початкова запланована тривалість місії становила 5 років, але зараз (станом на 2025 рік) становить уже більше 15 років."
   ]
  },
  {
   "cell_type": "markdown",
   "id": "af34e419",
   "metadata": {},
   "source": [
    "<p><img src=\"https://upload.wikimedia.org/wikipedia/commons/c/c6/Solar_Dynamics_Observatory_1.jpg\" alt=\"Solar Dynamics Observatory 1.jpg\" height=\"500\" width=\"888\">\n",
    "<br>\n",
    "Рис. Супутник Solar Dynamics Observatory.\n",
    "By NASA, Public Domain, <a href=\"https://commons.wikimedia.org/w/index.php?curid=4475835\">Link</a>. <a href=\"https://uk.wikipedia.org/wiki/Solar_Dynamics_Observatory\">Wiki</a></p>"
   ]
  },
  {
   "cell_type": "markdown",
   "id": "92f253b4",
   "metadata": {},
   "source": [
    "**Parker Solar Probe**\n",
    "\n",
    "Місія NASA, яка зближується із Сонцем, щоб збирати дані про його зовнішнє середовище, структуру корони та процеси, що відбуваються в надгарячому плазмовому середовищі. Апарат було запущено 12 серпня 2018 року.\n",
    "\n",
    "5 листопада 2018 року зонд Parker Solar Probe пролетів на відстані 24 млн км від світила, рухаючись зі швидкістю 343112 км/год. Зонд зібрав наукові дані і встановив рекорди серед штучних об'єктів: зі швидкості руху та наближення до Сонця.\n",
    "\n",
    "30 червня 2024 року, згідно повідомлення NASA, зонд Parker Solar Probe здійснив свій 20-й близький проліт повз Сонце. Зонд підлетів до нашої зірки на менш ніж 5 % відстані від Землі до Сонця та встановив новий рекорд швидкості, адже він рухався зі швидкістю 635266 км/год.\n",
    "\n",
    "24 грудня 2024 року, об 11:53 за Гринвічем (13:53 за Києвом), зонд Parker Solar Probe наблизився до Сонця на рекордно близьку відстань - 6.1 млн км. Швидкість апарата при цьому склала 690 тис км/год."
   ]
  },
  {
   "cell_type": "markdown",
   "id": "30339817",
   "metadata": {},
   "source": [
    "<p><img src=\"https://upload.wikimedia.org/wikipedia/commons/e/e1/Parker_Solar_Probe_spacecraft_model.png\" alt=\"Digital model of a spacecraft with a bus attached to a larger sun-shield. Two small solar panels are attached to the side of the bus, along with four rear-facing antennas.\" height=\"500\" width=\"720\">\n",
    "<br>\n",
    "Рис. Модель апарату Parker Solar Probe.\n",
    "By <a href=\"https://en.wikipedia.org/wiki/NASA\" class=\"extiw\" title=\"w:NASA\">National Aeronautics and Space Administration (NASA)</a>, Public Domain, <a href=\"https://commons.wikimedia.org/w/index.php?curid=59476892\">Link</a>. <a href=\"https://en.wikipedia.org/wiki/Parker_Solar_Probe\">Wiki</a></p>"
   ]
  },
  {
   "cell_type": "markdown",
   "id": "a5919841",
   "metadata": {},
   "source": [
    "````{div} full-width\n",
    "\n",
    "<iframe width=\"100%\", height=\"600\" src=\"https://eyes.nasa.gov/apps/solar-system/#/sc_parker_solar_probe\" allowfullscreen ></iframe>\n",
    "\n",
    "3Д мапа від NASA. Поточне положення Parker Solar Probe на орбіті навколо Сонця.\n",
    "\n",
    "````"
   ]
  },
  {
   "cell_type": "markdown",
   "id": "2573065c",
   "metadata": {},
   "source": [
    "**[PROBA-3](https://uk.wikipedia.org/wiki/PROBA-3)**\n",
    "\n",
    "PROBA-3 - це космічна технологічна демонстраційна місія з подвійним зондом, що розроблена і проводиться Європейським космічним агентством (ЄКА/ESA). Вона присвячена високоточному польоту супутників у формації для досягнення наукової коронографії. PROBA-3 є частиною серії супутників PROBA, які використовуються для перевірки нових технологій і концепцій космічних кораблів, а також мають наукові інструменти. Місія була успішно запущена 5 грудня 2024 року ракетою ISRO PSLV-XL з космічного центру Сатіша Дхавана в Шріхарікоті, Індія\n",
    "\n",
    "PROBA-3 складається з двох незалежних космічних апаратів із стабілізацією по трьох осях: космічного апарата Coronagraph (CSC) і космічного апарата Occulter (OSC). Політ космічних апаратів відбувається близько один до одного на високоеліптичній орбіті навколо Землі з апогеєм на висоті 60 500 км.\n",
    "\n",
    "Літаючи в щільній формації на відстані близько 150 метрів один від одного, Occulter буде точно відкидати свою тінь на телескоп Coronagraph, блокуючи пряме світло Сонця. Це дозволить Coronagraph знімати слабку сонячну корону у видимому, ультрафіолетовому та поляризованому світлі протягом багатьох годин поспіль і при цьому не бути засліпленим фотосферою Сонця. Наукова мета полягає в спостереженні корони приблизно до 1.1 сонячного радіуса у видимому діапазоні довжин хвиль."
   ]
  },
  {
   "cell_type": "markdown",
   "id": "a5e55164",
   "metadata": {},
   "source": [
    "![proba-3-esa.png](../images/proba-3-esa.png)\n",
    "\n",
    "Рис. PROBA-3 місія. Credit: ESA - European Space Agency"
   ]
  },
  {
   "cell_type": "markdown",
   "id": "7b5e73b8",
   "metadata": {},
   "source": [
    "## Додаткові матеріали (українською)\n",
    "\n",
    "* [Сонце](https://uk.wikipedia.org/wiki/Сонце)\n",
    "* [Ядро Сонця](https://uk.wikipedia.org/wiki/Ядро_Сонця)\n",
    "* [Зона променистого переносу](https://uk.wikipedia.org/wiki/Зона_променистого_переносу)\n",
    "* [Тахоклин](https://uk.wikipedia.org/wiki/Тахоклин)\n",
    "* [Фотосфера](https://uk.wikipedia.org/wiki/Фотосфера)\n",
    "* [Хромосфера](https://uk.wikipedia.org/wiki/Хромосфера)\n",
    "* [Сонячна корона](https://uk.wikipedia.org/wiki/Сонячна_корона)\n",
    "* [Геліосфера](https://uk.wikipedia.org/wiki/Геліосфера)\n",
    "* [SOHO](https://uk.wikipedia.org/wiki/SOHO)\n",
    "* [Веб-сайт місії SOHO](https://soho.nascom.nasa.gov/sunspots/)\n",
    "* [Точки Лагранжа](https://uk.wikipedia.org/wiki/Точки_Лагранжа)\n",
    "* [Тея (планета)](https://uk.wikipedia.org/wiki/Тея_(планета))\n",
    "* [Solar Dynamics Observatory](https://uk.wikipedia.org/wiki/Solar_Dynamics_Observatory)\n",
    "* [Parker Solar Probe](https://uk.wikipedia.org/wiki/Parker_Solar_Probe#2024)\n",
    "* [PROBA-3](https://uk.wikipedia.org/wiki/PROBA-3)\n",
    "* [Interstellar Boundary Explorer](https://uk.wikipedia.org/wiki/Interstellar_Boundary_Explorer)"
   ]
  },
  {
   "cell_type": "markdown",
   "id": "19c019af",
   "metadata": {},
   "source": [
    "## Додаткові матеріали (англійською)\n",
    "\n",
    "* [Wiki. Sun](https://en.wikipedia.org/wiki/Sun)\n",
    "* [NASA. Our Sun: Facts](https://science.nasa.gov/sun/facts/)\n",
    "* [NASA. Sun](https://science.nasa.gov/sun/)\n",
    "* [Solar Core](https://en.wikipedia.org/wiki/Solar_core)\n",
    "* [The Solar Interior](https://solarscience.msfc.nasa.gov/interior.shtml)\n",
    "* [Photosphere](https://en.wikipedia.org/wiki/Photosphere)\n",
    "* [Chromosphere](https://en.wikipedia.org/wiki/Chromosphere)\n",
    "* [Solar transition region](https://en.wikipedia.org/wiki/Solar_transition_region)\n",
    "* [Stellar corona](https://en.wikipedia.org/wiki/Stellar_corona)\n",
    "* [Heliosphere](https://en.wikipedia.org/wiki/Heliosphere)\n",
    "* [Stellar classification](https://en.wikipedia.org/wiki/Stellar_classification)\n",
    "* [SOHO (Solar and Heliospheric Observatory)](https://en.wikipedia.org/wiki/Solar_and_Heliospheric_Observatory)\n",
    "* [Solar Dynamics Observatory](https://en.wikipedia.org/wiki/Solar_Dynamics_Observatory)\n",
    "* [Official website Solar Dynamics Observatory](https://sdo.gsfc.nasa.gov/)\n",
    "* [Parker Solar Probe](https://en.wikipedia.org/wiki/Parker_Solar_Probe)\n",
    "* [Parker Solar Probe Mission](https://parkersolarprobe.jhuapl.edu/The-Mission/index.php#introduction)\n",
    "* [Parker Solar Probe NASA](https://science.nasa.gov/mission/parker-solar-probe/)\n",
    "* [PROBA-3](https://en.wikipedia.org/wiki/PROBA-3)\n",
    "* [PROBA-3 ESA](https://www.esa.int/Enabling_Support/Space_Engineering_Technology/Proba-3)\n",
    "* [PROBA-3 Mission ESA](https://www.esa.int/Enabling_Support/Space_Engineering_Technology/Proba_Missions/Proba-3_Mission3)\n",
    "* [Hydrogen-alpha](https://en.wikipedia.org/wiki/Hydrogen-alpha)\n",
    "* [The Structure and Composition of the Sun](https://openstax.org/books/astronomy/pages/15-1-the-structure-and-composition-of-the-sun)\n",
    "\n"
   ]
  }
 ],
 "metadata": {
  "language_info": {
   "name": "python"
  }
 },
 "nbformat": 4,
 "nbformat_minor": 5
}
