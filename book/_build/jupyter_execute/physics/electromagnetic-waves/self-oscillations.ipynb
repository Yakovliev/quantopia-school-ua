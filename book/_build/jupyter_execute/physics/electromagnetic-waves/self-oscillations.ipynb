{
 "cells": [
  {
   "cell_type": "markdown",
   "id": "7c4f0e10",
   "metadata": {},
   "source": [
    "# Автоколивання\n",
    "\n",
    "IN PROGRESS (МАТЕРІАЛИ БУДУТЬ ДОДАНІ НА ПОЧАТКУ ЛИСТОПАДА 2025 РОКУ)"
   ]
  },
  {
   "cell_type": "markdown",
   "id": "e7e9c04c",
   "metadata": {},
   "source": [
    "## Додаткові матеріали\n",
    "\n",
    "* \n",
    "\n",
    "\n",
    "## Додаткові матеріали (англійською)\n",
    "\n",
    "* \n",
    "\n"
   ]
  }
 ],
 "metadata": {
  "language_info": {
   "codemirror_mode": {
    "name": "ipython",
    "version": 3
   },
   "file_extension": ".py",
   "mimetype": "text/x-python",
   "name": "python",
   "nbconvert_exporter": "python",
   "pygments_lexer": "ipython3",
   "version": "3.9.1"
  }
 },
 "nbformat": 4,
 "nbformat_minor": 5
}