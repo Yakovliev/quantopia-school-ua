{
 "cells": [
  {
   "cell_type": "markdown",
   "id": "a80a4d6b",
   "metadata": {},
   "source": [
    "# Потенціальна енергія та закон збереження енергії"
   ]
  },
  {
   "cell_type": "markdown",
   "id": "3ac3c5f8",
   "metadata": {},
   "source": [
    "<p><img src=\"https://upload.wikimedia.org/wikipedia/commons/6/6c/Work_of_gravity_F_dot_d_equals_mgh.JPG\" alt=\"Work of gravity F dot d equals mgh.JPG\" height=\"138\" width=\"168\">\n",
    "<br>\n",
    "Рис. 1. Сила тяжіння F = mg виконує роботу A = mgh незалежно від того, якою була траєкторія руху з початкової точки в кінцеву точку.\n",
    "Автор: <a href=\"https://commons.wikimedia.org/wiki/User:Ilevanat\" title=\"User:Ilevanat\">Ilevanat</a> - <span class=\"int-own-work\" lang=\"uk\">Власна робота</span>, <a href=\"https://creativecommons.org/licenses/by-sa/3.0\" title=\"Creative Commons Attribution-Share Alike 3.0\">CC BY-SA 3.0</a>, <a href=\"https://commons.wikimedia.org/w/index.php?curid=14735358\">Посилання</a>. <a href=\"https://uk.wikipedia.org/wiki/Робота_(фізика)\">Wikipedia</a></p>"
   ]
  },
  {
   "cell_type": "markdown",
   "id": "8bca9bbc",
   "metadata": {},
   "source": [
    "## Додаткові матеріали\n",
    "\n",
    "* https://uk.wikipedia.org/wiki/Робота_(фізика)\n",
    "\n",
    "\n",
    "\n",
    "## Додаткові матеріали (англійською)\n",
    "\n",
    "* https://en.wikipedia.org/wiki/Work_(physics)\n"
   ]
  }
 ],
 "metadata": {
  "language_info": {
   "codemirror_mode": {
    "name": "ipython",
    "version": 3
   },
   "file_extension": ".py",
   "mimetype": "text/x-python",
   "name": "python",
   "nbconvert_exporter": "python",
   "pygments_lexer": "ipython3",
   "version": "3.9.1"
  }
 },
 "nbformat": 4,
 "nbformat_minor": 5
}