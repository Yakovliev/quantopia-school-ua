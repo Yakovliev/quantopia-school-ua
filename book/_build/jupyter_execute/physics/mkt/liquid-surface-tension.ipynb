{
 "cells": [
  {
   "cell_type": "markdown",
   "id": "62ef28e2",
   "metadata": {},
   "source": [
    "# Поверхневий натяг рідини та капілярні явища (в процесі)"
   ]
  },
  {
   "cell_type": "markdown",
   "id": "e106cc54",
   "metadata": {},
   "source": [
    "## Додаткові матеріали\n",
    "\n",
    "* \n",
    "\n",
    "## Додаткові матеріали (англійською)\n",
    "\n",
    "* \n"
   ]
  }
 ],
 "metadata": {
  "language_info": {
   "codemirror_mode": {
    "name": "ipython",
    "version": 3
   },
   "file_extension": ".py",
   "mimetype": "text/x-python",
   "name": "python",
   "nbconvert_exporter": "python",
   "pygments_lexer": "ipython3",
   "version": "3.9.1"
  }
 },
 "nbformat": 4,
 "nbformat_minor": 5
}