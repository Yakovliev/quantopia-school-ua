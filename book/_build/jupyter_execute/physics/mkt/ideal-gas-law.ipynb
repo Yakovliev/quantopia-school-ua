{
 "cells": [
  {
   "cell_type": "markdown",
   "id": "fd5cfa38",
   "metadata": {},
   "source": [
    "# Рівняння стану ідеального газу"
   ]
  },
  {
   "cell_type": "markdown",
   "id": "c3dd8554",
   "metadata": {},
   "source": [
    "## Додаткові матеріали\n",
    "\n",
    "* https://uk.wikipedia.org/wiki/Кінетична_теорія\n",
    "* https://uk.wikipedia.org/wiki/Броунівський_рух\n",
    "\n",
    "\n",
    "## Додаткові матеріали (англійською)\n",
    "\n",
    "* https://en.wikipedia.org/wiki/Kinetic_theory_of_gases\n",
    "* https://en.wikipedia.org/wiki/Brownian_motion\n"
   ]
  }
 ],
 "metadata": {
  "language_info": {
   "codemirror_mode": {
    "name": "ipython",
    "version": 3
   },
   "file_extension": ".py",
   "mimetype": "text/x-python",
   "name": "python",
   "nbconvert_exporter": "python",
   "pygments_lexer": "ipython3",
   "version": "3.9.1"
  }
 },
 "nbformat": 4,
 "nbformat_minor": 5
}