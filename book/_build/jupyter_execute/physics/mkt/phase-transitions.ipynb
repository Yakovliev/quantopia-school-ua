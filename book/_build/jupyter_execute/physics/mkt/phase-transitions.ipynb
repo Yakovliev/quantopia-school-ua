{
 "cells": [
  {
   "cell_type": "markdown",
   "id": "4d234a77",
   "metadata": {},
   "source": [
    "# Фазові переходи (в процесі)"
   ]
  },
  {
   "cell_type": "markdown",
   "id": "d2f82638",
   "metadata": {},
   "source": [
    "## Додаткові матеріали\n",
    "\n",
    "* https://uk.wikipedia.org/wiki/Фазовий_перехід\n",
    "\n",
    "\n",
    "## Додаткові матеріали (англійською)\n",
    "\n",
    "* https://en.wikipedia.org/wiki/Phase_transition\n",
    "\n"
   ]
  }
 ],
 "metadata": {
  "language_info": {
   "codemirror_mode": {
    "name": "ipython",
    "version": 3
   },
   "file_extension": ".py",
   "mimetype": "text/x-python",
   "name": "python",
   "nbconvert_exporter": "python",
   "pygments_lexer": "ipython3",
   "version": "3.9.1"
  }
 },
 "nbformat": 4,
 "nbformat_minor": 5
}