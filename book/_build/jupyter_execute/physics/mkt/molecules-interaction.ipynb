{
 "cells": [
  {
   "cell_type": "markdown",
   "id": "8dfc0f09",
   "metadata": {},
   "source": [
    "# Рух та взаємодія молекул"
   ]
  },
  {
   "cell_type": "markdown",
   "id": "61508bac",
   "metadata": {},
   "source": [
    "### Нормальні умови\n",
    "\n",
    "Часто в задачах, особливо коли йдеться про гази, згадуються **нормальні умови (н.у.)**. Це стандартний набір значень тиску та температури, прийнятий для зручності порівняння властивостей газів.\n",
    "\n",
    "*   Тиск $p = 101325 \\text{ Па} \\approx 10^5 \\text{ Па}$ (нормальний атмосферний тиск).\n",
    "*   Температура $T = 273.15 \\text{ К}$ (що відповідає $0^\\circ\\text{C}$).\n",
    "\n",
    "За нормальних умов 1 моль будь-якого ідеального газу займає об'єм $V_m \\approx 22.4 \\text{ л/моль} = 22.4 \\cdot 10^{-3} \\text{ м}^3\\text{/моль}$. Це твердження відоме як закон Авогадро."
   ]
  },
  {
   "cell_type": "markdown",
   "id": "724693c5",
   "metadata": {},
   "source": [
    "## Додаткові матеріали\n",
    "\n",
    "* https://uk.wikipedia.org/wiki/Кінетична_теорія\n",
    "* https://uk.wikipedia.org/wiki/Броунівський_рух\n",
    "\n",
    "\n",
    "## Додаткові матеріали (англійською)\n",
    "\n",
    "* https://en.wikipedia.org/wiki/Kinetic_theory_of_gases\n",
    "* https://en.wikipedia.org/wiki/Brownian_motion\n"
   ]
  }
 ],
 "metadata": {
  "language_info": {
   "codemirror_mode": {
    "name": "ipython",
    "version": 3
   },
   "file_extension": ".py",
   "mimetype": "text/x-python",
   "name": "python",
   "nbconvert_exporter": "python",
   "pygments_lexer": "ipython3",
   "version": "3.9.1"
  }
 },
 "nbformat": 4,
 "nbformat_minor": 5
}