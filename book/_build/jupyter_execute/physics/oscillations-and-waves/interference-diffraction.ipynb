{
 "cells": [
  {
   "cell_type": "markdown",
   "id": "7dc6d507",
   "metadata": {},
   "source": [
    "# Інтерференція і дифракція"
   ]
  },
  {
   "cell_type": "markdown",
   "id": "1f162636",
   "metadata": {},
   "source": [
    "## Інтерференція хвиль\n",
    "\n",
    "Для хвиль з невеликими амплітудами виконується **принцип суперпозиції:** коли в певну точку простору приходять хвилі від кількох джерел, вони накладаються одна на одну. Внаслідок цього накладання в деяких точках простору постійно спостерігається підсилення коливань, а в інших - послаблення. Проаналізуємо, за яких умов і чому це відбувається. Припустимо, що в точку M приходять дві когерентні хвилі – це хвилі від джерел S₁ і S₂, які коливаються синхронно, тобто з однаковими фазою та частотою.\n",
    "\n",
    "Якщо хвилі досягають точки M у протифазі (коли в певний момент часу одна хвиля «штовхає» точку M вгору, а інша – вниз), вони постійно компенсуватимуть одна одну.\n",
    "\n",
    "Коли ж хвилі приходять у точку M в однаковій фазі, то в цій точці постійно спостерігатимуться коливання з підвищеною амплітудою.\n",
    "\n",
    "> Явище накладання хвиль, при якому в певних точках простору спостерігається стійке підсилення чи послаблення результуючих коливань, називають **інтерференцією**."
   ]
  },
  {
   "cell_type": "markdown",
   "id": "9cf5343c",
   "metadata": {},
   "source": [
    "<p><img src=\"https://upload.wikimedia.org/wikipedia/commons/0/0f/Interference_of_two_waves.svg\" alt=\"When two or more waves travel through a medium and superpose then the resultant intensity do not distributed uniformly in the space. At some places, it is maximum while at some other places it is minimum. This non uniform distribution of intensity or energy of light is known as interference.\" height=\"244\" width=\"730\">\n",
    "<br>\n",
    "Рис. Інтерференція двох хвиль. У фазі: дві нижні хвилі поєднуються (ліва частина), у результаті чого виникає хвиля з підвищеною амплітудою (конструктивна інтерференція). Не у фазі: дві нижні хвилі поєднуються (права частина), у результаті чого виникає хвиля нульової амплітуди (деструктивна інтерференція).\n",
    "By original version: <a href=\"https://commons.wikimedia.org/wiki/User:Haade\" title=\"User:Haade\">Haade</a>;vectorization: <a href=\"https://commons.wikimedia.org/wiki/User:Wjh31\" title=\"User:Wjh31\">Wjh31</a>, <a href=\"https://commons.wikimedia.org/wiki/User:Quibik\" title=\"User:Quibik\">Quibik</a> - Vecorized from <a href=\"https://commons.wikimedia.org/wiki/File:Interference_of_two_waves.png\" title=\"File:Interference of two waves.png\">File:Interference of two waves.png</a>, <a href=\"https://creativecommons.org/licenses/by-sa/3.0\" title=\"Creative Commons Attribution-Share Alike 3.0\">CC BY-SA 3.0</a>, <a href=\"https://commons.wikimedia.org/w/index.php?curid=10073387\">Link</a>. <a href=\"https://en.wikipedia.org/wiki/Wave_interference\">Wiki</a></p>"
   ]
  },
  {
   "cell_type": "markdown",
   "id": "8dde341a",
   "metadata": {},
   "source": [
    "## Дифракція хвиль\n",
    "\n",
    "Коли судно пливе морем, воно створює на поверхні води хвилю. Якщо на шляху цієї хвилі зустрінеться скеля або гілка, що виступає з води, то за скелею утвориться область, куди хвиля не проникає (тінь), тоді як за гілкою такої тіні не буде - хвиля просто її обігне.\n",
    "\n",
    "> Явище огинання хвилями перешкод називають **дифракцією**.\n",
    "\n",
    "У згаданому прикладі дифракція відбувається на гілці, але не на скелі. Проте це не є загальним правилом. На достатній відстані від джерела хвилі навіть за скелею тінь зникне - хвиля здатна обійти й її. Справа в тому, що дифракція проявляється в двох випадках: 1) коли розміри перешкод (або отворів, через які проходить хвиля) співмірні з довжиною хвилі; 2) коли відстань від перешкоди до місця спостереження значно перевищує розміри самої перешкоди.\n"
   ]
  },
  {
   "cell_type": "markdown",
   "id": "4817425a",
   "metadata": {},
   "source": [
    "<p><img src=\"https://upload.wikimedia.org/wikipedia/commons/3/38/CGWAVE_Tedious_Creek_MD.jpg\" alt=\"CGWAVE Tedious Creek MD.jpg\" height=\"500\" width=\"754\">\n",
    "<br>\n",
    "Рис. Дифракція і рефракція хвиль на воді.\n",
    "Суспільне надбання (Public Domain), <a href=\"https://commons.wikimedia.org/w/index.php?curid=14500456\">Посилання</a>. <a href=\"https://uk.wikipedia.org/wiki/Дифракція\">Wiki</a></p>"
   ]
  },
  {
   "cell_type": "markdown",
   "id": "634ddc8d",
   "metadata": {},
   "source": [
    "<p><img src=\"https://upload.wikimedia.org/wikipedia/commons/0/01/Two-Slit_Diffraction.png\" alt=\"Two-Slit Diffraction.png\" height=\"500\" width=\"625\">\n",
    "<br>\n",
    "Рис. Дифракція на двох щілинах.\n",
    "<a href=\"http://creativecommons.org/licenses/by-sa/3.0/\" title=\"Creative Commons Attribution-Share Alike 3.0\">CC BY-SA 3.0</a>, <a href=\"https://commons.wikimedia.org/w/index.php?curid=477451\">Посилання</a>. <a href=\"https://uk.wikipedia.org/wiki/Дифракція\">Wiki</a></p>"
   ]
  },
  {
   "cell_type": "markdown",
   "id": "5919410f",
   "metadata": {},
   "source": [
    "<p><img src=\"https://upload.wikimedia.org/wikipedia/commons/a/a9/Doubleslit.gif\" alt=\"Зображення\" height=\"500\" width=\"502\">\n",
    "<br>\n",
    "Рис. Дифракція на двох щілинах.\n",
    "Автор: <a href=\"https://commons.wikimedia.org/w/index.php?title=User:Lookang&amp;action=edit&amp;redlink=1\" class=\"new\" title=\"User:Lookang (page does not exist)\">Lookang</a> - <span class=\"int-own-work\" lang=\"uk\">Власна робота</span>, <a href=\"https://creativecommons.org/licenses/by-sa/3.0\" title=\"Creative Commons Attribution-Share Alike 3.0\">CC BY-SA 3.0</a>, <a href=\"https://commons.wikimedia.org/w/index.php?curid=17003343\">Посилання</a>. <a href=\"https://uk.wikipedia.org/wiki/Дифракція\">Wiki</a></p>"
   ]
  },
  {
   "cell_type": "markdown",
   "id": "ebc4b823",
   "metadata": {},
   "source": [
    "<p><img src=\"https://upload.wikimedia.org/wikipedia/commons/f/f5/Light_dispersion_conceptual_waves.gif\" alt=\"Light dispersion conceptual waves.gif\" height=\"480\" width=\"640\">\n",
    "<br>\n",
    "Рис. Розсіяння світла призмою і поширення електромагнітних хвиль.\n",
    "Public Domain, <a href=\"https://commons.wikimedia.org/w/index.php?curid=3270145\">Link</a>. <a href=\"https://en.wikipedia.org/wiki/Wave\">Wiki</a></p>"
   ]
  },
  {
   "cell_type": "markdown",
   "id": "f557ac2c",
   "metadata": {},
   "source": [
    "## Додаткові матеріали\n",
    "\n",
    "* [Інтерференція хвиль](https://uk.wikipedia.org/wiki/Інтерференція_хвиль)\n",
    "* [Дифракція](https://uk.wikipedia.org/wiki/Дифракція)"
   ]
  },
  {
   "cell_type": "markdown",
   "id": "4cd2af88",
   "metadata": {},
   "source": [
    "## Додаткові матеріали (англійською)\n",
    "\n",
    "* [Wave interference](https://en.wikipedia.org/wiki/Wave_interference)\n",
    "* [Diffraction](https://en.wikipedia.org/wiki/Diffraction)"
   ]
  }
 ],
 "metadata": {
  "language_info": {
   "codemirror_mode": {
    "name": "ipython",
    "version": 3
   },
   "file_extension": ".py",
   "mimetype": "text/x-python",
   "name": "python",
   "nbconvert_exporter": "python",
   "pygments_lexer": "ipython3",
   "version": "3.9.1"
  }
 },
 "nbformat": 4,
 "nbformat_minor": 5
}