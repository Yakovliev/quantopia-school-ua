{
 "cells": [
  {
   "cell_type": "markdown",
   "id": "e9aa2a67",
   "metadata": {},
   "source": [
    "# Звукові хвилі"
   ]
  },
  {
   "cell_type": "markdown",
   "id": "5da379f3",
   "metadata": {},
   "source": []
  },
  {
   "cell_type": "markdown",
   "id": "0f502314",
   "metadata": {},
   "source": [
    "## Додаткові матеріали\n",
    "\n",
    "* \n",
    "\n",
    "## Додаткові матеріали (англійською)\n",
    "\n",
    "* "
   ]
  }
 ],
 "metadata": {
  "language_info": {
   "codemirror_mode": {
    "name": "ipython",
    "version": 3
   },
   "file_extension": ".py",
   "mimetype": "text/x-python",
   "name": "python",
   "nbconvert_exporter": "python",
   "pygments_lexer": "ipython3",
   "version": "3.9.1"
  }
 },
 "nbformat": 4,
 "nbformat_minor": 5
}