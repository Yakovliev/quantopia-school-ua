{
 "cells": [
  {
   "cell_type": "markdown",
   "metadata": {},
   "source": [
    "https://science.nasa.gov/solar-system/"
   ]
  },
  {
   "cell_type": "markdown",
   "metadata": {},
   "source": [
    "3D мапа сонячної системи за прямим посиланням NASA:\n",
    "\n",
    "https://eyes.nasa.gov/apps/solar-system/#/sc_parker_solar_probe?embed=true"
   ]
  },
  {
   "cell_type": "markdown",
   "metadata": {},
   "source": [
    "<iframe \n",
    "  width=\"100%\" \n",
    "  height=\"600\" \n",
    "  src=\"https://eyes.nasa.gov/apps/solar-system/#/home?embed=true\" \n",
    "  title=\"Solar System 3D\" \n",
    "  frameborder=\"0\"\n",
    "  allowfullscreen>\n",
    "</iframe>"
   ]
  }
 ],
 "metadata": {
  "language_info": {
   "codemirror_mode": {
    "name": "ipython",
    "version": 3
   },
   "file_extension": ".py",
   "mimetype": "text/x-python",
   "name": "python",
   "nbconvert_exporter": "python",
   "pygments_lexer": "ipython3",
   "version": "3.9.1"
  }
 },
 "nbformat": 4,
 "nbformat_minor": 2
}