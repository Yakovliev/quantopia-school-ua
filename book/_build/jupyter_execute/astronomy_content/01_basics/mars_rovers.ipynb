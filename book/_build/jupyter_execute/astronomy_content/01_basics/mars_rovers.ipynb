{
 "cells": [
  {
   "cell_type": "markdown",
   "metadata": {},
   "source": [
    "https://uk.wikipedia.org/wiki/Соджорнер_(марсохід)\n",
    "https://en.wikipedia.org/wiki/Sojourner_(rover)\n",
    "https://en.wikipedia.org/wiki/Mars_Pathfinder\n",
    "\n",
    "https://uk.wikipedia.org/wiki/Оппортьюніті\n",
    "https://en.wikipedia.org/wiki/Mars_rover\n"
   ]
  }
 ],
 "metadata": {
  "language_info": {
   "codemirror_mode": {
    "name": "ipython",
    "version": 3
   },
   "file_extension": ".py",
   "mimetype": "text/x-python",
   "name": "python",
   "nbconvert_exporter": "python",
   "pygments_lexer": "ipython3",
   "version": "3.9.1"
  }
 },
 "nbformat": 4,
 "nbformat_minor": 2
}