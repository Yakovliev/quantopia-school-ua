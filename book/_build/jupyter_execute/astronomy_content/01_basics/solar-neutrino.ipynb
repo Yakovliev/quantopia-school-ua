{
 "cells": [
  {
   "cell_type": "markdown",
   "id": "432bda02",
   "metadata": {},
   "source": [
    "# Сонячне нейтрино"
   ]
  },
  {
   "cell_type": "markdown",
   "id": "8c631854",
   "metadata": {},
   "source": [
    "## Що таке нейтрино?\n",
    "\n",
    "> **Нейтрино** - це неймовірно маленькі, електрично нейтральні частинки, які належать до сімейства лептонів. Вони мають дуже малу масу (настільки малу, що довгий час вважалося, що вони взагалі не мають маси) і не мають електричного заряду. Верхня межа маси нейтрино в мільйони разів менша за масу електрона. Через це вони майже не взаємодіють з іншою матерією - мільярди нейтрино проходять через кожен квадратний сантиметр поверхні Землі щосекунди, і навіть через наші тіла, але ми цього не відчуваємо!\n",
    "\n",
    "Довжина вільного пробігу нейтрино з енергією 1 МеВ у свинці становить $10^18$ м (близько 100 світлових років).\n",
    "\n",
    "Розрізняють електронне, мюонне і тау-лептонне нейтрино. Нейтрино й відповідні їм антинейтрино відіграють велику роль у перетвореннях елементарних частинок, у глобальних космологічних процесах."
   ]
  },
  {
   "cell_type": "markdown",
   "id": "27d22db6",
   "metadata": {},
   "source": [
    "## Сонячні нейтрино: звідки вони беруться?\n",
    "\n",
    "**Сонячні нейтрино** - це нейтрино, які утворюються внаслідок ядерних реакцій у центрі Сонця. Основним джерелом енергії Сонця є термоядерний синтез - процес, коли легкі ядра водню з'єднуються й утворюють ядра гелію, вивільняючи при цьому величезну кількість енергії.\n",
    "Найпоширеніша реакція, яка відбувається на Сонці, це так званий протон-протонний цикл:\n",
    "- Два протони з'єднуються, утворюючи дейтерій (ізотоп водню), позитрон та нейтрино\n",
    "- Дейтерій з'єднується з ще одним протоном, утворюючи ізотоп гелію-3\n",
    "- Два ядра гелію-3 з'єднуються, утворюючи гелій-4 і вивільняючи два протони\n",
    "\n",
    "Під час першого етапу цієї реакції утворюються електронні нейтрино. Крім протон-протонного циклу, нейтрино також виробляються в інших ядерних реакціях на Сонці."
   ]
  },
  {
   "cell_type": "markdown",
   "id": "006b3a0f",
   "metadata": {},
   "source": [
    "## Відкриття сонячних нейтрино\n",
    "\n",
    "Ідея про існування нейтрино була вперше запропонована Вольфгангом Паулі у 1930 році, щоб пояснити, куди зникає частина енергії при бета-розпаді атомних ядер.\n",
    "\n",
    "Нейтрино вперше було зареєстровано в 1956 році Клайдом Ковеном і Фредеріком Райнсом під час експерименту з використанням ядерного реактора як джерела нейтрино. Їхнє відкриття було відзначено Нобелівською премією з фізики 1995 року.\n",
    "\n",
    "У 1960-х роках учені змогли розробити методи виявлення сонячних нейтрино. Американський фізик Реймонд Девіс-молодший створив перший великий детектор нейтрино - глибоко в шахті Хоумстейк у Південній Дакоті, США. Цей експеримент, відомий як \"Хлор-аргоновий експеримент Девіса\", працював з 1968 по 1994 рік.\n",
    "\n",
    "Девіс використав величезний резервуар, що містив 615 тонн хлористого перхлоретилену (C₂Cl₄) - рідини, яка використовується для хімічного чищення одягу. Коли нейтрино стикається з атомом хлору-37, іноді відбувається реакція, яка перетворює хлор на радіоактивний аргон-37. Вчені періодично витягували накопичений аргон і підраховували кількість атомів, щоб визначити, скільки нейтрино було зафіксовано.\n",
    "\n",
    "У 1968 році Реймонд Девіс і Джон Бакал успішно виявили перші сонячні нейтрино в експерименті Гомстейк. Девіс спільно з японським фізиком Масатосі Косібою отримали половину Нобелівської премії з фізики 2002 року \"за новаторський внесок в астрофізику, зокрема за виявлення космічних нейтрино\" (інша половина дісталася Ріккардо Джакконі за внесок у відкриття космічних джерел рентгенівського випромінювання)."
   ]
  },
  {
   "cell_type": "markdown",
   "id": "3d5095e3",
   "metadata": {},
   "source": [
    "<p><img src=\"https://upload.wikimedia.org/wikipedia/commons/e/e2/U.S._Department_of_Energy_-_Science_-_390_002_007_%289952118384%29.jpg\" alt=\"U.S. Department of Energy - Science - 390 002 007 (9952118384).jpg\" height=\"500\" width=\"627\">\n",
    "<br>\n",
    "Рис. Підземний резервуар Гоумстейкського експерименту, коли басейн навколо резервуара ще не затоплено.\n",
    "Автор: <a rel=\"nofollow\" class=\"external text\" href=\"https://www.flickr.com/people/37916456@N02\">U.S. Department of Energy</a> from United States, Суспільне надбання (Public Domain), <a href=\"https://commons.wikimedia.org/w/index.php?curid=64243644\">Посилання</a>. <a href=\"https://uk.wikipedia.org/wiki/Гоумстейкський_експеримент\">Wiki</a></p>"
   ]
  },
  {
   "cell_type": "markdown",
   "id": "046d0e7d",
   "metadata": {},
   "source": [
    "## Проблема сонячних нейтрино\n",
    "\n",
    "Коли Девіс почав свої експерименти, він виявив щось дивне: він фіксував лише приблизно третину від очікуваної кількості нейтрино, передбаченої теоретичними моделями Сонця. Це стало відомо як \"проблема сонячних нейтрино\" і залишалося загадкою для фізиків протягом наступних 30 років.\n",
    "\n",
    "Розв'язання цієї проблеми прийшло у 2001-2002 роках завдяки експерименту SNO (Sudbury Neutrino Observatory) у Канаді. Виявилося, що нейтрино можуть змінювати свій \"тип\" або \"аромат\" під час подорожі від Сонця до Землі. Усього існує три типи нейтрино: електронні, мюонні та тау-нейтрино. Сонце виробляє лише електронні нейтрино, але по дорозі до Землі частина з них перетворюється на інші типи. Детектор Девіса міг виявляти лише електронні нейтрино, тому він і фіксував менше частинок, ніж очікувалося.\n",
    "\n",
    "Це явище називається \"осциляцією нейтрино\" і свідчить про те, що нейтрино мають масу, хоч і дуже малу, що суперечило раннім теоріям у фізиці елементарних частинок. За відкриття осциляцій нейтрино Такаакі Кадзіта і Артур Макдональд отримали Нобелівську премію з фізики у 2015 році."
   ]
  },
  {
   "cell_type": "markdown",
   "id": "9aeb40be",
   "metadata": {},
   "source": [
    "<p><img src=\"https://upload.wikimedia.org/wikipedia/en/f/f3/Sudbury_Neutrino_Observatory.detector_outside.jpg\" alt=\"Sudbury Neutrino Observatory.detector outside.jpg\" height=\"550\" width=\"393\">\n",
    "<br>\n",
    "Рис. Детектор нейтрино Садбері (Sudbury Neutrino Observatory).\n",
    "By (Courtesy of SNO) - (Courtesy of SNO), <a href=\"https://creativecommons.org/licenses/by-sa/4.0/\" title=\"Creative Commons Attribution-ShareAlike 4.0\">CC BY-SA 4.0</a>, <a href=\"https://en.wikipedia.org/w/index.php?curid=56786015\">Link</a>. <a href=\"https://en.wikipedia.org/wiki/Sudbury_Neutrino_Observatory\">Wiki</a></p>"
   ]
  },
  {
   "cell_type": "markdown",
   "id": "41c902be",
   "metadata": {},
   "source": [
    "<p><img src=\"https://upload.wikimedia.org/wikipedia/commons/5/56/Sun_poster_uk.svg\" alt=\"Sun poster uk.svg\" height=\"550\" width=\"833\">\n",
    "<br>\n",
    "Рис. Сонце у розрізі. Ядро Сонця є джерелом нейтрино.\n",
    "Автор: <a class=\"external free\" href=\"https://commons.wikimedia.org/wiki/User:Kelvinsong\">https://commons.wikimedia.org/wiki/User:Kelvinsong</a> - <a href=\"https://commons.wikimedia.org/wiki/File:Sun_poster.svg\" title=\"File:Sun poster.svg\">File:Sun_poster.svg</a>, <a href=\"https://creativecommons.org/licenses/by-sa/3.0\" title=\"Creative Commons Attribution-Share Alike 3.0\">CC BY-SA 3.0</a>, <a href=\"https://commons.wikimedia.org/w/index.php?curid=34651935\">Посилання</a>. <a href=\"https://uk.wikipedia.org/wiki/Сонце\">Wiki</a></p>"
   ]
  },
  {
   "cell_type": "markdown",
   "id": "ee0fd839",
   "metadata": {},
   "source": [
    "## Як виявляють нейтрино?\n",
    "\n",
    "Виявлення нейтрино надзвичайно складне, оскільки ці частинки майже не взаємодіють із речовиною. Для виявлення потрібні величезні детектори, розташовані глибоко під землею (щоб захистити їх від космічних променів та інших джерел перешкод).\n",
    "\n",
    "Основні методи виявлення нейтрино:\n",
    "1) Радіохімічний метод - використаний у експерименті Девіса. Нейтрино викликає ядерну реакцію, перетворюючи один елемент на інший, який потім можна виявити. Оптимальним варіантом ядерної реакції для детектування виступає взаємодія нейтрино з ядром специфічного ізотопу хлору з масовим числом 37. У результаті такої взаємодії відбувається трансформація в ядро ізотопу аргону-37, який характеризується радіоактивними властивостями, що дозволяє через визначені інтервали часу проводити кількісну оцінку накопиченого матеріалу. Важливо враховувати, що інші види космічного випромінювання також здатні індукувати ядерну трансформацію хлору в аргон. Для мінімізації подібних інтерферуючих факторів експериментальні вимірювання необхідно здійснювати на значній глибині під поверхнею Землі, куди звичайні космічні частинки не здатні проникнути. Є ще методи, які використовують галій замість хлору (галій перетворюється в германій).\n",
    "2) Черенковські детектори - великі резервуари з чистою водою або іншою прозорою рідиною. Коли нейтрино взаємодіє з молекулою води, воно може створити заряджену частинку, яка рухається швидше за світло у воді (але не швидше за світло у вакуумі!). Це викликає блакитне світіння, відоме як випромінювання Черенкова, яке можна зафіксувати чутливими фотодетекторами.\n",
    "3) Сцинтиляційні детектори - використовують матеріали, які випромінюють світло при взаємодії з зарядженими частинками, утвореними внаслідок взаємодії нейтрино."
   ]
  },
  {
   "cell_type": "markdown",
   "id": "87e1367f",
   "metadata": {},
   "source": [
    "## Основні нейтринні детектори у світі\n",
    "\n",
    "Ось перелік найважливіших нейтринних детекторів, які використовуються для вивчення сонячних нейтрино:\n",
    "1) Super-Kamiokande (Японія) — величезний черенковський детектор, що містить 50.000 тонн надчистої води в резервуарі, оточеному тисячами світлочутливих трубок.\n",
    "2) SNO (Sudbury Neutrino Observatory) (Канада) - використовував важку воду (D₂O) для виявлення всіх трьох типів нейтрино. Зараз модернізований до SNO+.\n",
    "3) Borexino (Італія) - сцинтиляційний детектор, розташований у підземній лабораторії Гран-Сассо. Особливо чутливий до низькоенергетичних нейтрино.\n",
    "4) SAGE (Soviet-American Gallium Experiment) (росія) - галієвий детектор, розташований у Баксанській нейтринній обсерваторії на Північному Кавказі.\n",
    "5) GALLEX/GNO (Італія) - ще один галієвий детектор, розташований у лабораторії Гран-Сассо.\n",
    "6) Daya Bay (Китай) - комплекс детекторів, призначений для вивчення нейтрино від ядерних реакторів, але також чутливий до сонячних нейтрино.\n",
    "7) KamLAND (Японія) - великий сцинтиляційний детектор, який вивчає як реакторні, так і сонячні нейтрино.\n",
    "8) IceCube (Південний полюс) — величезний детектор, вбудований у антарктичний лід. Хоча він переважно призначений для виявлення нейтрино високих енергій з космічних джерел, він також може виявляти сонячні нейтрино."
   ]
  },
  {
   "cell_type": "markdown",
   "id": "596a8390",
   "metadata": {},
   "source": [
    "<p><img src=\"https://upload.wikimedia.org/wikipedia/commons/5/51/IceCube_Neutrino_Observatory_in_2023_02.jpg\" alt=\"IceCube Neutrino Observatory in 2023 02.jpg\" height=\"500\" width=\"731\">\n",
    "<br>\n",
    "Рис. IceCube Neutrino Observatory на південному полюсі.\n",
    "By <a href=\"https://commons.wikimedia.org/wiki/User:Cmichel67\" title=\"User:Cmichel67\">Cmichel67</a> - <span class=\"int-own-work\" lang=\"en\">Own work</span>, <a href=\"https://creativecommons.org/licenses/by-sa/4.0\" title=\"Creative Commons Attribution-Share Alike 4.0\">CC BY-SA 4.0</a>, <a href=\"https://commons.wikimedia.org/w/index.php?curid=128003225\">Link</a>. <a href=\"https://en.wikipedia.org/wiki/IceCube_Neutrino_Observatory\">Wiki</a></p>"
   ]
  },
  {
   "cell_type": "markdown",
   "id": "c77602b1",
   "metadata": {},
   "source": [
    "<p><img src=\"https://upload.wikimedia.org/wikipedia/commons/2/24/Antarctica_relief_location_map.jpg\" alt=\"IceCube Neutrino Observatory is located in Antarctica\" height=\"500\" width=\"500\">\n",
    "<br>\n",
    "Рис. Локація IceCube Neutrino Observatory на південному полюсі.\n",
    "<a href=\"https://creativecommons.org/licenses/by-sa/3.0\" title=\"Creative Commons Attribution-Share Alike 3.0\">CC BY-SA 3.0</a>, <a href=\"https://commons.wikimedia.org/w/index.php?curid=9536525\">Link</a>. <a href=\"https://en.wikipedia.org/wiki/IceCube_Neutrino_Observatory\">Wiki</a></p>"
   ]
  },
  {
   "cell_type": "markdown",
   "id": "0b27d2a7",
   "metadata": {},
   "source": [
    "<p><img src=\"https://upload.wikimedia.org/wikipedia/commons/5/59/The_IceCube_Neutrino_Observatory.jpg\" alt=\"The IceCube Neutrino Observatory.jpg\" height=\"500\" width=\"672\">\n",
    "<br>\n",
    "Рис. Тривимірний макет детектора нейтрино IceCube.\n",
    "By Karen Andeen and Matthias Plum for the IceCube Collaboration - <a rel=\"nofollow\" class=\"external free\" href=\"https://www.researchgate.net/publication/333164791_Latest_Cosmic_Ray_Results_from_IceTop_and_IceCube\">https://www.researchgate.net/publication/333164791_Latest_Cosmic_Ray_Results_from_IceTop_and_IceCube</a> (<a rel=\"nofollow\" class=\"external free\" href=\"https://dx.doi.org/10.1051/epjconf/201921003005\">https://dx.doi.org/10.1051/epjconf/201921003005</a>), <a href=\"https://creativecommons.org/licenses/by/4.0\" title=\"Creative Commons Attribution 4.0\">CC BY 4.0</a>, <a href=\"https://commons.wikimedia.org/w/index.php?curid=133098636\">Link</a>. <a href=\"https://en.wikipedia.org/wiki/IceCube_Neutrino_Observatory\">Wiki</a></p>"
   ]
  },
  {
   "cell_type": "markdown",
   "id": "e0d307b3",
   "metadata": {},
   "source": [
    "<p><img src=\"https://upload.wikimedia.org/wikipedia/commons/f/f4/The_Daya_Bay_Antineutrino_Detector_%288056998030%29.jpg\" alt=\"The Daya Bay Antineutrino Detector (8056998030).jpg\" height=\"500\" width=\"825\">\n",
    "<br>\n",
    "Рис. Один із детекторів Daya Bay.\n",
    "By Roy Kaltschmidt, Lawrence Berkeley National Laboratory - <a rel=\"nofollow\" class=\"external text\" href=\"https://www.flickr.com/photos/departmentofenergy/8056998030/\">The Daya Bay Antineutrino Detector</a>, Public Domain, <a href=\"https://commons.wikimedia.org/w/index.php?curid=36088676\">Link</a>. <a href=\"https://en.wikipedia.org/wiki/Daya_Bay_Reactor_Neutrino_Experiment\">Wiki</a></p>"
   ]
  },
  {
   "cell_type": "markdown",
   "id": "cbf6b58c",
   "metadata": {},
   "source": [
    "## Раннє попередження про вибух наднової\n",
    "\n",
    "Сім нейтринних експериментів (Супер-Каміоканде, LVD, IceCube, KamLAND, Borexino, Daya Bay і HALO) працюють разом як система раннього попередження про наднові зорі. Під час колапсу ядра наднової дев'яносто дев'ять відсотків вивільненої енергії уноситься нейтрино. Поки фотони можуть шукати шлях назовні зі щільного ядра наднової протягом годин, нейтрино здатні досягти її поверхні за секунди. Оскільки нейтрино рухаються майже зі швидкістю світла, вони можуть дійти до Землі раніше, ніж фотони. Якщо два чи більше детекторів SNEWS (SuperNova Early Warning System) спостерігають одночасне збільшеного потоку нейтрино, професійним астрономам і астрономам-любителям надсилається попередження, щоб вони шукали наднову на певній ділянці неба."
   ]
  },
  {
   "cell_type": "markdown",
   "id": "31f453f6",
   "metadata": {},
   "source": [
    "## Чому вивчення сонячних нейтрино важливе?\n",
    "\n",
    "Сонячні нейтрино дозволяють нам \"заглянути\" прямо в центр Сонця, оскільки вони виникають у ядрі зірки і майже без перешкод проходять через всю сонячну речовину. Фотони (частинки світла), навпаки, можуть подорожувати від центру до поверхні Сонця протягом тисяч або навіть мільйонів років через численні розсіювання.\n",
    "\n",
    "Вивчення сонячних нейтрино дозволяє:\n",
    "- Перевіряти моделі Сонця і зоряної еволюції\n",
    "- Краще розуміти фізику елементарних частинок\n",
    "- Вивчати властивості самих нейтрино\n",
    "- Досліджувати фундаментальні закони фізики"
   ]
  },
  {
   "cell_type": "markdown",
   "id": "5d05729e",
   "metadata": {},
   "source": [
    "## Цікаві факти про нейтрино\n",
    "\n",
    "1) Через Землю проходить близько 100 трильйонів сонячних нейтрино кожну секунду.\n",
    "2) Більшість нейтрино, які проходять через Землю, могли б пройти через світловий рік свинцю, не взаємодіючи з жодним атомом!\n",
    "3) Нейтрино можуть подорожувати зі швидкістю, близькою до швидкості світла.\n",
    "4) Сонце не єдине джерело нейтрино - вони також виникають при вибухах наднових, у ядерних реакторах, у верхніх шарах атмосфери при взаємодії з космічними променями, і навіть всередині Землі (геонейтрино).\n",
    "5) Учені вважають, що через деякий час після Великого Вибуху Всесвіт заповнився \"реліктовими нейтрино\", подібно до реліктового мікрохвильового випромінювання. Однак ці нейтрино мають настільки малу енергію, що їх поки не вдалося виявити."
   ]
  },
  {
   "cell_type": "markdown",
   "id": "b07da568",
   "metadata": {},
   "source": [
    "## Додаткові матеріали (українською)\n",
    "\n",
    "* [Сонце](https://uk.wikipedia.org/wiki/Сонце)\n",
    "* [Нейтрино](https://uk.wikipedia.org/wiki/Нейтрино)\n",
    "* [Проблема сонячних нейтрино](https://uk.wikipedia.org/wiki/Проблема_сонячних_нейтрино)\n",
    "* [Нейтринна астрономія](https://uk.wikipedia.org/wiki/Нейтринна_астрономія)\n",
    "* [Гоумстейкський експеримент](https://uk.wikipedia.org/wiki/Гоумстейкський_експеримент)\n",
    "* [Геонейтрино](https://uk.wikipedia.org/wiki/Геонейтрино)"
   ]
  },
  {
   "cell_type": "markdown",
   "id": "b477de2c",
   "metadata": {},
   "source": [
    "## Додаткові матеріали (англійською)\n",
    "\n",
    "* [Solar neutrino](https://en.wikipedia.org/wiki/Solar_neutrino)\n",
    "* [SuperNova Early Warning System Official Website](https://snews2.org/about/)\n",
    "* [SuperNova Early Warning System](https://en.wikipedia.org/wiki/SuperNova_Early_Warning_System)\n",
    "* [Super-Kamiokande](https://en.wikipedia.org/wiki/Super-Kamiokande)\n",
    "* [Large Volume Detector](https://en.wikipedia.org/wiki/Large_Volume_Detector)\n",
    "* [IceCube Neutrino Observatory](https://en.wikipedia.org/wiki/IceCube_Neutrino_Observatory)\n",
    "* [Helium and Lead Observatory](https://en.wikipedia.org/wiki/Helium_and_Lead_Observatory)\n",
    "* [Daya Bay Reactor Neutrino Experiment](https://en.wikipedia.org/wiki/Daya_Bay_Reactor_Neutrino_Experiment)\n",
    "* [Kamioka Liquid Scintillator Antineutrino Detector](https://en.wikipedia.org/wiki/Kamioka_Liquid_Scintillator_Antineutrino_Detector)\n",
    "* [Borexino](https://en.wikipedia.org/wiki/Borexino)\n",
    "* [Sudbury Neutrino Observatory](https://en.wikipedia.org/wiki/Sudbury_Neutrino_Observatory)\n",
    "\n"
   ]
  }
 ],
 "metadata": {
  "language_info": {
   "codemirror_mode": {
    "name": "ipython",
    "version": 3
   },
   "file_extension": ".py",
   "mimetype": "text/x-python",
   "name": "python",
   "nbconvert_exporter": "python",
   "pygments_lexer": "ipython3",
   "version": "3.9.1"
  }
 },
 "nbformat": 4,
 "nbformat_minor": 5
}