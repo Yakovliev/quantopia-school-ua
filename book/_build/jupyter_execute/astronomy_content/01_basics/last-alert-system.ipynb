{
 "cells": [
  {
   "cell_type": "markdown",
   "id": "012f30ae",
   "metadata": {},
   "source": [
    "# Планетарний захист. Система останнього сповіщення (Preview)"
   ]
  },
  {
   "cell_type": "markdown",
   "id": "121173fa",
   "metadata": {},
   "source": [
    "Примітка: ця сторінка перебуває в розробці"
   ]
  },
  {
   "cell_type": "markdown",
   "id": "3ccbd24f",
   "metadata": {},
   "source": [
    "## Додаткові джерела (українською)\n",
    "\n",
    "* [Asteroid Terrestrial-impact Last Alert System](https://uk.wikipedia.org/wiki/ATLAS_(система_телескопів))\n",
    "* [Захист від астероїдів](https://uk.wikipedia.org/wiki/Захист_від_астероїдів)"
   ]
  },
  {
   "cell_type": "markdown",
   "id": "e1f6a97c",
   "metadata": {},
   "source": [
    "## Додаткові джерела (англійською)\n",
    "\n",
    "* [Asteroid Terrestrial-impact Last Alert System](https://en.wikipedia.org/wiki/Asteroid_Terrestrial-impact_Last_Alert_System)"
   ]
  }
 ],
 "metadata": {
  "language_info": {
   "codemirror_mode": {
    "name": "ipython",
    "version": 3
   },
   "file_extension": ".py",
   "mimetype": "text/x-python",
   "name": "python",
   "nbconvert_exporter": "python",
   "pygments_lexer": "ipython3",
   "version": "3.9.1"
  }
 },
 "nbformat": 4,
 "nbformat_minor": 5
}