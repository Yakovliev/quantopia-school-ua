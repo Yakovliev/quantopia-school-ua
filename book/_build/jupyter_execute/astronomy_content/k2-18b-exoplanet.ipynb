{
 "cells": [
  {
   "cell_type": "markdown",
   "id": "86ca7864",
   "metadata": {},
   "source": []
  },
  {
   "cell_type": "markdown",
   "id": "1e33df00",
   "metadata": {},
   "source": [
    "https://en.wikipedia.org/wiki/K2-18b"
   ]
  },
  {
   "cell_type": "markdown",
   "id": "13e7039c",
   "metadata": {},
   "source": [
    "## Додаткові матеріали (українською)\n",
    "\n"
   ]
  },
  {
   "cell_type": "markdown",
   "id": "2a235f83",
   "metadata": {},
   "source": [
    "## Додаткові матеріали (англійською)\n",
    "\n",
    "\n",
    "\n"
   ]
  }
 ],
 "metadata": {
  "language_info": {
   "codemirror_mode": {
    "name": "ipython",
    "version": 3
   },
   "file_extension": ".py",
   "mimetype": "text/x-python",
   "name": "python",
   "nbconvert_exporter": "python",
   "pygments_lexer": "ipython3",
   "version": "3.9.1"
  }
 },
 "nbformat": 4,
 "nbformat_minor": 5
}