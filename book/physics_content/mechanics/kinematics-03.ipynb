{
 "cells": [
  {
   "cell_type": "markdown",
   "id": "05b4617d",
   "metadata": {},
   "source": [
    "# Рівноприскорений прямолінійний рух"
   ]
  }
 ],
 "metadata": {
  "language_info": {
   "name": "python"
  }
 },
 "nbformat": 4,
 "nbformat_minor": 5
}
