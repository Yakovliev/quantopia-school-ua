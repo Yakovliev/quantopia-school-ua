{
 "cells": [
  {
   "cell_type": "markdown",
   "id": "012f30ae",
   "metadata": {},
   "source": [
    "# Планетарний захист. Система останнього сповіщення (Preview)"
   ]
  },
  {
   "cell_type": "markdown",
   "id": "121173fa",
   "metadata": {},
   "source": [
    "Примітка: ця сторінка перебуває в розробці"
   ]
  },
  {
   "cell_type": "markdown",
   "id": "3ccbd24f",
   "metadata": {},
   "source": [
    "## Додаткові джерела (українською)\n",
    "\n",
    "* [Asteroid Terrestrial-impact Last Alert System](https://uk.wikipedia.org/wiki/ATLAS_(система_телескопів))\n",
    "* [Захист від астероїдів](https://uk.wikipedia.org/wiki/Захист_від_астероїдів)"
   ]
  },
  {
   "cell_type": "markdown",
   "id": "e1f6a97c",
   "metadata": {},
   "source": [
    "## Додаткові джерела (англійською)\n",
    "\n",
    "* [Asteroid Terrestrial-impact Last Alert System](https://en.wikipedia.org/wiki/Asteroid_Terrestrial-impact_Last_Alert_System)"
   ]
  }
 ],
 "metadata": {
  "language_info": {
   "name": "python"
  }
 },
 "nbformat": 4,
 "nbformat_minor": 5
}
