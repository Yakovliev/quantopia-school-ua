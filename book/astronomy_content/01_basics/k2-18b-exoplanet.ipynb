{
 "cells": [
  {
   "cell_type": "markdown",
   "id": "86ca7864",
   "metadata": {},
   "source": []
  },
  {
   "cell_type": "markdown",
   "id": "1e33df00",
   "metadata": {},
   "source": [
    "https://en.wikipedia.org/wiki/K2-18b"
   ]
  },
  {
   "cell_type": "markdown",
   "id": "13e7039c",
   "metadata": {},
   "source": [
    "## Додаткові матеріали (українською)\n",
    "\n"
   ]
  },
  {
   "cell_type": "markdown",
   "id": "2a235f83",
   "metadata": {},
   "source": [
    "## Додаткові матеріали (англійською)\n",
    "\n",
    "\n",
    "\n"
   ]
  }
 ],
 "metadata": {
  "language_info": {
   "name": "python"
  }
 },
 "nbformat": 4,
 "nbformat_minor": 5
}
