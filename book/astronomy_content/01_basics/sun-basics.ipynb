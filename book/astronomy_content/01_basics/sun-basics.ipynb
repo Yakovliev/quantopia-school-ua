{
 "cells": [
  {
   "cell_type": "markdown",
   "id": "21d24f94",
   "metadata": {},
   "source": [
    "# Сонце - найближча зоря"
   ]
  },
  {
   "cell_type": "markdown",
   "id": "434340ad",
   "metadata": {},
   "source": [
    "````{div} full-width\n",
    "\n",
    "<iframe width=\"100%\", height=\"550\" src=\"https://eyes.nasa.gov/apps/solar-system/#/sun?embed=true\" allowfullscreen ></iframe>\n",
    "\n",
    "````"
   ]
  },
  {
   "cell_type": "markdown",
   "id": "705cf5a7",
   "metadata": {},
   "source": [
    "<p><img src=\"https://upload.wikimedia.org/wikipedia/commons/8/83/The_Sun_in_white_light.jpg\" alt=\"White glowing ball with black sunspots\" height=\"550\" width=\"550\">\n",
    "<br>\n",
    "Рис. 1. Сонце через прозорий сонячний фільтр.\n",
    "<a href=\"https://creativecommons.org/licenses/by-sa/4.0\" title=\"Creative Commons Attribution-Share Alike 4.0\">CC BY-SA 4.0</a>, <a href=\"https://commons.wikimedia.org/w/index.php?curid=94650721\">Link</a>. <a href=\"https://en.wikipedia.org/wiki/Sun\">Wiki</a></p>"
   ]
  },
  {
   "cell_type": "markdown",
   "id": "9f4af4eb",
   "metadata": {},
   "source": [
    "## Фізичні характеристики Сонця. Будова Сонця та джерела його енергії\n",
    "\n",
    "Сонце представляє собою одну з численних зір нашої Галактики, яка виконує роль центрального світила Сонячної системи. Його вік оцінюється приблизно в 4.6 мільярдів років. Завдяки сонячному теплу та світлу на нашій планеті існує життя. Відстань між Сонцем і Землею складає лише 150 мільйонів кілометрів, що дозволяє нам спостерігати його як яскравий диск на небосхилі. Дослідження Сонця відіграє надзвичайно важливу роль у розвитку людської цивілізації та має значне практичне застосування.\n",
    "\n",
    "Визначення температури Сонця базується на застосуванні законів випромінювання \"абсолютно чорного тіла\". Сонячне випромінювання містить електромагнітні хвилі різноманітних довжин, які людське око інтерпретує як біле світло. Насправді це світло є комбінацією всього спектра електромагнітних хвиль, що охоплює діапазон від червоного до фіолетового. При цьому максимум енергії сонячного випромінювання припадає на жовто-зелену частину спектра, через що астрономи класифікують наше Сонце як жовту зорю, хоча воно випромінює біле світло, а значить і колір має білий. На фотосфері - видимій поверхні Сонця - температура сягає 5780 К.\n",
    "\n",
    "Світність Сонця $(Ls)$ характеризує загальну потужність його випромінювання, тобто кількість енергії, яку випромінює сонячна поверхня в усіх напрямках за одиницю часу. Щоб обчислити світність, необхідно виміряти сонячну сталу $q$ - це енергія, яку отримує 1 квадратний метр земної поверхні за 1 секунду при розташуванні Сонця в зеніті. Світність Сонця розраховується множенням значення сонячної сталої на площу сфери з радіусом $R$:\n",
    "\n",
    "$$Ls = 4πR^2 \\cdot q = 4 \\cdot 10^{26} \\text{ Вт}$$\n",
    "\n",
    "де $R = 1.5 \\cdot 10^{11}$ м відповідає відстані від Землі до Сонця.\n",
    "\n",
    "> **Сонячна стала $q$** - кількість енергії, що надходить на 1 м² земної поверхні за 1 секунду, коли сонячні промені падають перпендикулярно до поверхні. Сучасні вимірювання на межі верхніх шарів атмосфери Землі показують значення сонячної сталої $q = 1.4$ кВт/м²."
   ]
  },
  {
   "cell_type": "markdown",
   "id": "9a0f599d",
   "metadata": {},
   "source": [
    "## Будова Сонця\n",
    "\n",
    "Сонце являє собою гігантську розжарену кулю плазми зі складною структурою зовнішніх та внутрішніх шарів. Внаслідок фізичних процесів у глибинах Сонця постійно генерується енергія, яка передається до зовнішніх шарів і розподіляється на дедалі більшу площу. Це призводить до поступового зниження температури сонячної плазми в напрямку від центру до поверхні. Виходячи з температурних характеристик і особливостей фізичних процесів, структуру Сонця умовно поділяють на кілька основних областей з різним фізичним станом речовини та механізмами передачі енергії: ядро, зона радіації, конвективна зона та фотосфера."
   ]
  },
  {
   "cell_type": "markdown",
   "id": "d183dc83",
   "metadata": {},
   "source": [
    "<p><img src=\"https://upload.wikimedia.org/wikipedia/commons/5/56/Sun_poster_uk.svg\" alt=\"Sun poster uk.svg\" height=\"550\" width=\"833\">\n",
    "<br>\n",
    "Рис. 1. Сонце у розрізі. Ядро Сонця є джерелом нейтрино.\n",
    "Автор: <a class=\"external free\" href=\"https://commons.wikimedia.org/wiki/User:Kelvinsong\">https://commons.wikimedia.org/wiki/User:Kelvinsong</a> - <a href=\"https://commons.wikimedia.org/wiki/File:Sun_poster.svg\" title=\"File:Sun poster.svg\">File:Sun_poster.svg</a>, <a href=\"https://creativecommons.org/licenses/by-sa/3.0\" title=\"Creative Commons Attribution-Share Alike 3.0\">CC BY-SA 3.0</a>, <a href=\"https://commons.wikimedia.org/w/index.php?curid=34651935\">Посилання</a>. <a href=\"https://uk.wikipedia.org/wiki/Сонце\">Wiki</a></p>"
   ]
  },
  {
   "cell_type": "markdown",
   "id": "6a6ee4c5",
   "metadata": {},
   "source": [
    "| Середня відстань до Землі | 1.5 · 10¹¹ м |\n",
    "| ------------------------ | ------------ |\n",
    "| Радіус                   | 696340 км (109 земних радіуса)       |\n",
    "| Середній діаметр         | 1.39 · 10⁹ м |\n",
    "| Маса                     | 1.98855 · 10³⁰ кг (330000 мас Землі) |\n",
    "| Середня густина          | 1408 кг/м³    |\n",
    "| Прискорення вільного падіння на екваторі | 274 м/с² |\n",
    "| Температура ядра         | 1.5 · 10⁷ K   |\n",
    "| Температура корони       | від 1 до 3 млн К   |\n",
    "| Температура фотосфери    | 5800 K        |\n",
    "| Світність                | 3.846 · 10²⁶ Вт   |\n",
    "| Хімічний склад за масою,% | H₂ - 73.46, He - 24.85 |"
   ]
  },
  {
   "cell_type": "markdown",
   "id": "d7641cdf",
   "metadata": {},
   "source": [
    "> **Ядро** - центральна область Сонця, де відбуваються термоядерні реакції, які є джерелом сонячної енергії. Саме в ядрі відбувається термоядерний синтез, за якого гідроген перетворюється на гелій, що утворює величезну кількість енергії. Ядро, попри відносно малий об'єм, містить значну частину сонячної маси завдяки надзвичайно високій густині, яка зростає в напрямку до центру. Колосальний тиск у поєднанні з надвисокою температурою створюють умови для протікання термоядерних реакцій. Ядро простягається приблизно на 20% радіуса Сонця (139000 км).\n",
    "\n",
    "Середня густина Сонця нижча, ніж у Землі, але в його ядрі щільність досягає надзвичайно високих значень."
   ]
  },
  {
   "cell_type": "markdown",
   "id": "ba8786db",
   "metadata": {},
   "source": [
    "> **Зона радіації** оточує ядро і простягається на відстань від 1/3 до 2/3 радіуса Сонця. У цій області енергія передається через механізм променистого переносу - послідовне поглинання та перевипромінювання квантів електромагнітної енергії речовиною.\n",
    "\n",
    "> **Конвективна зона** - шар Сонця, в якому енергія передається через механізм конвекції: гарячі потоки речовини піднімаються вгору, а охолоджені опускаються донизу. Цей шар розташований між верхньою межею зони радіації та видимою поверхнею Сонця (фотосферою).\n",
    "\n",
    "**Атмосфера** Сонця складається з трьох основних шарів. \n",
    "\n",
    "> Найнижчий шар атмосфери - **фотосфера** - має товщину близько 200-300 км і сприймається нами як видима поверхня Сонця. Густина газів у фотосфері мільйони разів менша за густину земної атмосфери біля поверхні, а температура зменшується з висотою. Середні шари фотосфери, випромінювання яких переважно досягає Землі, мають температуру 5800 К.\n",
    "\n",
    "За допомогою сонячного телескопа у фотосфері можна спостерігати специфічну зернисту структуру - грануляцію, яка є прямим проявом конвективних процесів. \n",
    "\n",
    "> Над фотосферою розташована **хромосфера**, де відбувається формування темних ліній поглинання в сонячному спектрі завдяки взаємодії випромінювання з атомами різних хімічних елементів. Товщина хромосферного шару становить 10-15 тисяч кілометрів, а температура в його верхніх шарах досягає 100000 К.\n",
    "\n",
    "> Найвіддаленіший шар сонячної атмосфери - **сонячна корона** - характеризується надзвичайно високою температурою, яка сягає від 1 до 3 млн градусів Кельвіна. Частина речовини корони постійно витікає у міжпланетний простір, утворюючи так званий сонячний вітер.\n",
    "\n",
    "Цікаво зауважити, що питома потужність енергогенерації Сонця досить незначна: один кілограм сонячної речовини генерує лише близько 0,001 Вт енергії. Для порівняння, людське тіло випромінює в середньому 100 Вт, що приблизно в тисячу разів перевищує питому потужність сонячної речовини такої ж маси. Проте унікальність Сонця полягає в тому, що воно підтримує цей рівень випромінювання протягом мільярдів років, забезпечуючи стабільну енергетичну підтримку Землі та інших тіл Сонячної системи."
   ]
  },
  {
   "cell_type": "markdown",
   "id": "343aad1c",
   "metadata": {},
   "source": [
    "Сонячні плями - це області, де магнітне поле інтенсивніше, що зменшує місцеву температуру. Вони часто супроводжуються спалахами та викидами коронарної маси.\n",
    "\n",
    "Активність Сонця змінюється циклічно приблизно кожні 11 років. Ці цикли впливають на кількість сонячних плям, інтенсивність сонячного випромінювання та інші магнітні явища."
   ]
  },
  {
   "cell_type": "markdown",
   "id": "18640576",
   "metadata": {},
   "source": [
    "## Сучасне дослідження Сонця\n",
    "\n",
    "**[SOHO (Solar and Heliospheric Observatory)](https://soho.nascom.nasa.gov/)**\n",
    "\n",
    "Місія спільного проекту NASA та ESA, спрямована на безперервне спостереження сонячної активності, вивчення корони, сонячного вітру та внутрішніх процесів в Сонці. Космічний апарат для спостереження за Сонцем був запущений 1995 року, а розпочав роботу у травні 1996 року. Розроблений NASA та ESA. Найбільша за своєю функціональністю космічна обсерваторія спостереження за Сонцем на початку XXI ст. Перебуває на геліоцентричній орбіті в точці Лагранжа L1 між Землею та Сонцем."
   ]
  },
  {
   "cell_type": "markdown",
   "id": "6a1bbeb6",
   "metadata": {},
   "source": [
    "<p><img src=\"https://upload.wikimedia.org/wikipedia/commons/6/6f/NASA_SOHO_spacecraft.png\" alt=\"NASA SOHO spacecraft.png\" height=\"500\" width=\"476\">\n",
    "<br>\n",
    "Рис. Супутник SOHO.\n",
    "<a rel=\"nofollow\" class=\"external free\" href=\"https://sohowww.nascom.nasa.gov/gallery/images/SOHOLower2.html\">http://sohowww.nascom.nasa.gov/gallery/images/SOHOLower2.html</a>, Public Domain, <a href=\"https://commons.wikimedia.org/w/index.php?curid=28983655\">Link</a>. <a href=\"https://uk.wikipedia.org/wiki/SOHO\">Wiki</a></p>"
   ]
  },
  {
   "cell_type": "markdown",
   "id": "af1f9811",
   "metadata": {},
   "source": [
    "<p><img src=\"https://upload.wikimedia.org/wikipedia/commons/8/88/Lagrange_points.jpg\" alt=\"Зображення\" height=\"500\" width=\"571\">\n",
    "<br>\n",
    "Рис. Точки Лагранжа та стабільність у Лагранжевих точках системи двох тіл зі значною різницею мас (напр. Сонце - Земля). Стабільні орбіти навколо точок L4 та L5 позначено синіми трикутниками.\n",
    "Автор: NASA - <a rel=\"nofollow\" class=\"external free\" href=\"https://map.gsfc.nasa.gov/m_mm/ob_techorbit1.html\">http://map.gsfc.nasa.gov/m_mm/ob_techorbit1.html</a>, Суспільне надбання (Public Domain), <a href=\"https://commons.wikimedia.org/w/index.php?curid=672579\">Посилання</a>. <a href=\"https://uk.wikipedia.org/wiki/Точки_Лагранжа\">Wiki</a></p>"
   ]
  },
  {
   "cell_type": "markdown",
   "id": "82159539",
   "metadata": {},
   "source": [
    "<p><img src=\"https://upload.wikimedia.org/wikipedia/commons/d/d0/Lagrangian_points_equipotential.gif\" alt=\"Відео\" height=\"384\" width=\"512\">\n",
    "<br>\n",
    "Рис. Точки Лагранжа\n",
    "Автор: <a href=\"https://commons.wikimedia.org/wiki/User:Cmglee\" title=\"User:Cmglee\">cmglee</a> - <span class=\"int-own-work\" lang=\"uk\">Власна робота</span>, <a href=\"https://creativecommons.org/licenses/by-sa/3.0\" title=\"Creative Commons Attribution-Share Alike 3.0\">CC BY-SA 3.0</a>, <a href=\"https://commons.wikimedia.org/w/index.php?curid=24680025\">Посилання</a>. <a href=\"https://uk.wikipedia.org/wiki/Точки_Лагранжа\">Wiki</a></p>"
   ]
  },
  {
   "cell_type": "markdown",
   "id": "a8b1114a",
   "metadata": {},
   "source": [
    "<p><img src=\"https://upload.wikimedia.org/wikipedia/commons/7/74/Big_Splash_Theia.gif\" alt=\"Big Splash Theia.gif\" height=\"501\" width=\"600\">\n",
    "<br>\n",
    "Рис. Ілюстрація зіткнення Теї з Землею, та утворення Місяця.\n",
    "<a href=\"http://creativecommons.org/licenses/by-sa/3.0/\" title=\"Creative Commons Attribution-Share Alike 3.0\">CC BY-SA 3.0</a>, <a href=\"https://commons.wikimedia.org/w/index.php?curid=338893\">Посилання</a>. <a href=\"https://uk.wikipedia.org/wiki/Тея_(планета)\">Wiki</a></p>"
   ]
  },
  {
   "cell_type": "markdown",
   "id": "12f08f5c",
   "metadata": {},
   "source": [
    "**[SDO (Solar Dynamics Observatory)](https://sdo.gsfc.nasa.gov/)**\n",
    "\n",
    "Забезпечує високоточну і часту зйомку Сонця в різних діапазонах хвиль, що дозволяє дослідникам в реальному часі аналізувати змінність сонячної активності. Початкова запланована тривалість місії становила 5 років, але зараз (станом на 2025 рік) становить уже більше 15 років."
   ]
  },
  {
   "cell_type": "markdown",
   "id": "af34e419",
   "metadata": {},
   "source": [
    "<p><img src=\"https://upload.wikimedia.org/wikipedia/commons/c/c6/Solar_Dynamics_Observatory_1.jpg\" alt=\"Solar Dynamics Observatory 1.jpg\" height=\"500\" width=\"888\">\n",
    "<br>\n",
    "Рис. Супутник Solar Dynamics Observatory.\n",
    "By NASA, Public Domain, <a href=\"https://commons.wikimedia.org/w/index.php?curid=4475835\">Link</a>. <a href=\"https://uk.wikipedia.org/wiki/Solar_Dynamics_Observatory\">Wiki</a></p>"
   ]
  },
  {
   "cell_type": "markdown",
   "id": "7b5e73b8",
   "metadata": {},
   "source": [
    "## Додаткові матеріали (українською)\n",
    "\n",
    "* [Сонце](https://uk.wikipedia.org/wiki/Сонце)\n",
    "* [SOHO](https://uk.wikipedia.org/wiki/SOHO)\n",
    "* [Веб-сайт місії SOHO](https://soho.nascom.nasa.gov/sunspots/)\n",
    "* [Точки Лагранжа](https://uk.wikipedia.org/wiki/Точки_Лагранжа)\n",
    "* [Тея (планета)](https://uk.wikipedia.org/wiki/Тея_(планета))\n",
    "* [Solar Dynamics Observatory](https://uk.wikipedia.org/wiki/Solar_Dynamics_Observatory)"
   ]
  },
  {
   "cell_type": "markdown",
   "id": "19c019af",
   "metadata": {},
   "source": [
    "## Додаткові матеріали (англійською)\n",
    "\n",
    "* [Wiki. Sun](https://en.wikipedia.org/wiki/Sun)\n",
    "* [NASA. Our Sun: Facts](https://science.nasa.gov/sun/facts/)\n",
    "* [NASA. Sun](https://science.nasa.gov/sun/)\n",
    "* [Stellar classification](https://en.wikipedia.org/wiki/Stellar_classification)\n",
    "* [SOHO (Solar and Heliospheric Observatory)](https://en.wikipedia.org/wiki/Solar_and_Heliospheric_Observatory)\n",
    "* [Solar Dynamics Observatory](https://en.wikipedia.org/wiki/Solar_Dynamics_Observatory)\n",
    "* [Official website Solar Dynamics Observatory](https://sdo.gsfc.nasa.gov/)"
   ]
  }
 ],
 "metadata": {
  "language_info": {
   "name": "python"
  }
 },
 "nbformat": 4,
 "nbformat_minor": 5
}
