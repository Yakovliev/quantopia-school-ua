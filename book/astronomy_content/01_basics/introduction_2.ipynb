{
 "cells": [
  {
   "cell_type": "markdown",
   "metadata": {},
   "source": [
    "## Історія астрономічних відкриттів та винаходів\n",
    "\n",
    "**Стародавні часи**\n",
    "\n",
    "* 3500 р. до н. е. - Створення перших сонячних годинників ([Wikipedia](https://uk.wikipedia.org/wiki/%D0%A1%D0%BE%D0%BD%D1%8F%D1%87%D0%BD%D0%B8%D0%B9_%D0%B3%D0%BE%D0%B4%D0%B8%D0%BD%D0%BD%D0%B8%D0%BA))\n",
    "* 585 р. до н.е. - Фалес Мілетський передбачає сонячне затемнення ([Wikipedia](https://uk.wikipedia.org/wiki/%D0%A1%D0%BE%D0%BD%D1%8F%D1%87%D0%BD%D0%B5_%D0%B7%D0%B0%D1%82%D0%B5%D0%BC%D0%BD%D0%B5%D0%BD%D0%BD%D1%8F))\n",
    "\n",
    "**XVI століття**\n",
    "\n",
    "* 1543 р. - Публікація праці Коперника про геліоцентричну систему світу ([Wikipedia](https://uk.wikipedia.org/wiki/%D0%9F%D1%80%D0%BE_%D0%BE%D0%B1%D0%B5%D1%80%D1%82%D0%B0%D0%BD%D0%BD%D1%8F_%D0%BD%D0%B5%D0%B1%D0%B5%D1%81%D0%BD%D0%B8%D1%85_%D1%81%D1%84%D0%B5%D1%80))\n",
    "* 1572 р. - Спостереження наднової Тихо SN 1572 (одна з восьми наднових, спостереження яких (неозброєним оком) зазначено в історичних документах) ([Wikipedia](https://uk.wikipedia.org/wiki/SN_1572?utm_source=chatgpt.com))\n",
    "\n",
    "<p><a href=\"https://commons.wikimedia.org/wiki/File:SN_1572_Tycho%27s_Supernova.jpg#/media/%D0%A4%D0%B0%D0%B9%D0%BB:SN_1572_Tycho's_Supernova.jpg\"><img src=\"https://upload.wikimedia.org/wikipedia/commons/d/da/SN_1572_Tycho%27s_Supernova.jpg\" alt=\"SN 1572 Tycho's Supernova.jpg\" height=\"600\" width=\"600\"></a><br>Залишок наднової Тихо — червоне коло у верхній лівій частині цього фото за допомогою WISE. Автор: NASA/JPL-Caltech/WISE Team - <a rel=\"nofollow\" class=\"external text\" href=\"http://wise.ssl.berkeley.edu/gallery_Tycho_SNR.html\">WISE</a>, Суспільне надбання (Public Domain), <a href=\"https://commons.wikimedia.org/w/index.php?curid=10899859\">Посилання</a></p>\n"
   ]
  },
  {
   "cell_type": "markdown",
   "metadata": {},
   "source": [
    "\n",
    "**XVII-XVIII століття**\n",
    "\n",
    "* 1608 р. - Винайдення телескопа (створення першого телескопу приписують Гансу Ліпперсгею, однак були й інші майстри, що стверджували, що винайшли телескоп). Телескоп значно вдосконалений Галілео Галілеєм у 1609. ([Wikipedia](https://uk.wikipedia.org/wiki/%D0%86%D1%81%D1%82%D0%BE%D1%80%D1%96%D1%8F_%D1%82%D0%B5%D0%BB%D0%B5%D1%81%D0%BA%D0%BE%D0%BF%D0%B0))\n",
    "* 1609-1619 р. - Кеплер публікує три закони руху планет (названі, зрештою, на його честь **законами Кеплера**) ([Wikipedia](https://uk.wikipedia.org/wiki/%D0%97%D0%B0%D0%BA%D0%BE%D0%BD%D0%B8_%D0%9A%D0%B5%D0%BF%D0%BB%D0%B5%D1%80%D0%B0))\n",
    "\n",
    "* 1610 р. - Галілео Галілей уперше спостерігає Сатурн (шоста планета від Сонця) у телескоп ([Wikipedia](https://uk.wikipedia.org/wiki/%D0%A1%D0%B0%D1%82%D1%83%D1%80%D0%BD_(%D0%BF%D0%BB%D0%B0%D0%BD%D0%B5%D1%82%D0%B0)))\n",
    "\n",
    "<p><a href=\"https://commons.wikimedia.org/wiki/File:Saturn_in_natural_colors_(captured_by_the_Hubble_Space_Telescope).jpg#/media/%D0%A4%D0%B0%D0%B9%D0%BB:Saturn_in_natural_colors_(captured_by_the_Hubble_Space_Telescope).jpg\"><img src=\"https://upload.wikimedia.org/wikipedia/commons/d/d4/Saturn_in_natural_colors_%28captured_by_the_Hubble_Space_Telescope%29.jpg\" alt=\"Saturn in natural colors (captured by the Hubble Space Telescope).jpg\" height=\"600\" width=\"935\"></a><br>Фотографія Сатурна, зроблена космічним телескопом Габбл 2001 року. Автор: Hubble Heritage Team (AURA/STScI/NASA/ESA) - <a rel=\"nofollow\" class=\"external free\" href=\"https://esahubble.org/images/opo9828c/\">https://esahubble.org/images/opo9828c/</a> та <a rel=\"nofollow\" class=\"external free\" href=\"https://hubblesite.org/contents/media/images/1998/28/698-Image.html\">https://hubblesite.org/contents/media/images/1998/28/698-Image.html</a>, Суспільне надбання (Public Domain).\n",
    "\n",
    "\n",
    "* 1659 р. - Християн Гюйгенс відкриває систему кілець Сатурна ([Wikipedia](https://uk.wikipedia.org/wiki/%D0%A1%D0%B0%D1%82%D1%83%D1%80%D0%BD_(%D0%BF%D0%BB%D0%B0%D0%BD%D0%B5%D1%82%D0%B0)))\n",
    "* 1675 р. - Заснування Гринвіцької обсерваторії ([Wikipedia](https://uk.wikipedia.org/wiki/%D0%93%D1%80%D0%B8%D0%BD%D0%B2%D1%96%D1%86%D1%8C%D0%BA%D0%B0_%D0%BE%D0%B1%D1%81%D0%B5%D1%80%D0%B2%D0%B0%D1%82%D0%BE%D1%80%D1%96%D1%8F))\n",
    "* 1687 р. - Ісаак Ньютон публікує закон всесвітнього тяжіння ([Wikipedia](https://uk.wikipedia.org/wiki/%D0%97%D0%B0%D0%BA%D0%BE%D0%BD_%D0%B2%D1%81%D0%B5%D1%81%D0%B2%D1%96%D1%82%D0%BD%D1%8C%D0%BE%D0%B3%D0%BE_%D1%82%D1%8F%D0%B6%D1%96%D0%BD%D0%BD%D1%8F))\n",
    "* 1781 р. - Вільям Гершель відкриває Уран (сьома планета від Сонця) ([Wikipedia](https://uk.wikipedia.org/wiki/%D0%A3%D1%80%D0%B0%D0%BD_(%D0%BF%D0%BB%D0%B0%D0%BD%D0%B5%D1%82%D0%B0)))\n",
    "\n",
    "<p><a href=\"https://commons.wikimedia.org/wiki/File:Uranus.jpg#/media/%D0%A4%D0%B0%D0%B9%D0%BB:Uranus.jpg\"><img src=\"https://upload.wikimedia.org/wikipedia/commons/b/bb/Uranus.jpg\" alt=\"Uranus.jpg\" height=\"600\" width=\"600\"></a><br>Фотографія Урана з апарата «Вояджер-2». Автор: NASA/JPL - <a rel=\"nofollow\" class=\"external free\" href=\"https://photojournal.jpl.nasa.gov/catalog/PIA00032\">http://photojournal.jpl.nasa.gov/catalog/PIA00032</a>, Суспільне надбання (Public Domain).\n"
   ]
  },
  {
   "cell_type": "markdown",
   "metadata": {},
   "source": [
    "\n",
    "**XIX століття**\n",
    "\n",
    "* 1801 р. - Відкриття першого астероїда (Церера). Церера із 2006 року вважається карликовою планетою. ([Wikipedia](https://uk.wikipedia.org/wiki/%D0%A6%D0%B5%D1%80%D0%B5%D1%80%D0%B0_(%D0%BA%D0%B0%D1%80%D0%BB%D0%B8%D0%BA%D0%BE%D0%B2%D0%B0_%D0%BF%D0%BB%D0%B0%D0%BD%D0%B5%D1%82%D0%B0)))\n",
    "* 1846 р. - Відкриття Нептуна (восьма планета від Сонця). Нептун став першою планетою відкритою завдяки теоретичним розрахункам. ([Wikipedia](https://uk.wikipedia.org/wiki/%D0%9D%D0%B5%D0%BF%D1%82%D1%83%D0%BD_(%D0%BF%D0%BB%D0%B0%D0%BD%D0%B5%D1%82%D0%B0)))\n",
    "\n",
    "Майже детективна історія відкриття планети Нептун (дуже рекомендую до прочитання):\n",
    "<iframe src=\"https://uk.wikipedia.org/wiki/Відкриття_Нептуна\" width=\"100%\" height=\"500px\"></iframe>\n",
    "\n",
    "<br>\n",
    "<br>\n",
    "\n",
    "* 1859 р. - Сонячний супершторм (Англійський астроном Річард Керрінгтон перший зауважив, що Сонце вкрилося незвично великими плямами, вони були помітні навіть без оптичних приладів. Через 17 годин ніч над Америкою стала днем). ([Wikipedia](https://uk.wikipedia.org/wiki/%D0%9F%D0%BE%D0%B4%D1%96%D1%8F_%D0%9A%D0%B5%D1%80%D1%80%D1%96%D0%BD%D0%B3%D1%82%D0%BE%D0%BD%D0%B0))\n",
    "* 1868 р. - Відкриття гелію в спектрі Сонця"
   ]
  },
  {
   "cell_type": "markdown",
   "metadata": {},
   "source": [
    "\n",
    "**XX століття**\n",
    "\n",
    "* 1915 р. - Ейнштейн публікує загальну теорію відносності ([Wikipedia](https://en.wikipedia.org/wiki/General_relativity))\n",
    "\n",
    "<p><a href=\"https://commons.wikimedia.org/wiki/File:Cassini-science-br.jpg#/media/%D0%A4%D0%B0%D0%B9%D0%BB:Cassini-science-br.jpg\"><img src=\"https://upload.wikimedia.org/wikipedia/commons/2/24/Cassini-science-br.jpg\" alt=\"Пов'язане зображення\" height=\"600\" width=\"400\"></a><br>Напрямок поширення сигналу викривляється за рахунок викривлення самого простору поблизу Сонця. Це одне із передбачень загальної теорії відносності. (Public Domain), <a href=\"https://commons.wikimedia.org/w/index.php?curid=599116\">Посилання</a></p>\n",
    "\n",
    "* 1924 р. - Едвін Габбл доводить існування інших галактик ([Wikipedia](https://uk.wikipedia.org/wiki/%D0%A7%D1%83%D0%BC%D0%B0%D1%86%D1%8C%D0%BA%D0%B8%D0%B9_%D0%A8%D0%BB%D1%8F%D1%85))\n",
    "* 1930 р. - Відкриття Плутона (із 2006 року вважається не планетою, а карликовою планетою) ([Wikipedia](https://uk.wikipedia.org/wiki/%D0%9F%D0%BB%D1%83%D1%82%D0%BE%D0%BD_(%D0%BA%D0%B0%D1%80%D0%BB%D0%B8%D0%BA%D0%BE%D0%B2%D0%B0_%D0%BF%D0%BB%D0%B0%D0%BD%D0%B5%D1%82%D0%B0)))\n",
    "* 1933 р. - Карл Янський відкриває космічне радіовипромінювання (виявив постійні радіошуми невідомого походження, джерело якого він ототожнив у квітні 1933 року із Чумацьким Шляхом) ([Wikipedia](https://en.wikipedia.org/wiki/Karl_Guthe_Jansky))\n",
    "* 1937 р. - Створення першого радіотелескопа (радіоаматор із США Ґроут Ребер збудував перший радіотелескоп на задньому подвір'ї своїх батьків) ([Wikipedia](https://uk.wikipedia.org/wiki/%D0%A0%D0%B0%D0%B4%D1%96%D0%BE%D1%82%D0%B5%D0%BB%D0%B5%D1%81%D0%BA%D0%BE%D0%BF))\n",
    "\n",
    "<p><a href=\"https://commons.wikimedia.org/wiki/File:Grote_Antenna_Wheaton.gif#/media/%D0%A4%D0%B0%D0%B9%D0%BB:Grote_Antenna_Wheaton.gif\"><img src=\"https://upload.wikimedia.org/wikipedia/commons/8/8b/Grote_Antenna_Wheaton.gif\" alt=\"Grote Antenna Wheaton.gif\" height=\"600\" width=\"480\"></a><br>Радіотелескоп Ґроута Ребера. Автор: Grote Reber - <a rel=\"nofollow\" class=\"external free\" href=\"http://www.nrao.edu/whatisra/hist_reber.shtml\">http://www.nrao.edu/whatisra/hist_reber.shtml</a>, (Public Domain), <a href=\"https://commons.wikimedia.org/w/index.php?curid=4274131\">Посилання</a></p>\n"
   ]
  },
  {
   "cell_type": "markdown",
   "metadata": {},
   "source": [
    "* 1957 р. - Запуск першого штучного супутника Землі\n",
    "* 1961 р. - Перший політ людини в космос (Юрій Гагарін)\n",
    "* 1967 р. - Відкриття пульсарів ([Wikipedia](https://uk.wikipedia.org/wiki/%D0%9F%D1%83%D0%BB%D1%8C%D1%81%D0%B0%D1%80)). Була ідея, що цей пульсуючий радіосигнал міг бути посланим позаземною цивілізацією. Хоча науковці й не вірили в цю гіпотезу, вони жартома назвали сигнал LGM-1, скорочення від little green men, \"маленькі зелені чоловічки\". У кінці року було виявлено другий пульсар в іншій частині неба, що й спростувало припущення про штучне походження сигналу.\n",
    "<p><a href=\"https://commons.wikimedia.org/wiki/File:Lightsmall-optimised.gif#/media/File:Lightsmall-optimised.gif\"><img src=\"https://upload.wikimedia.org/wikipedia/commons/4/4d/Lightsmall-optimised.gif\" alt=\"Lightsmall-optimised.gif\" height=\"480\" width=\"640\"></a><br>Пульсар, ілюстрація. By Michael Kramer - <a rel=\"nofollow\" class=\"external free\" href=\"http://www.jb.man.ac.uk/~mkramer/Animations.html\">http://www.jb.man.ac.uk/~mkramer/Animations.html</a>, <a href=\"http://creativecommons.org/licenses/by-sa/3.0/\" title=\"Creative Commons Attribution-Share Alike 3.0\">CC BY-SA 3.0</a>, <a href=\"https://commons.wikimedia.org/w/index.php?curid=2848650\">Link</a></p>\n",
    "\n",
    "* 1969 р. - Перша висадка людини на Місяць\n",
    "* 1973-1993 рр. - Запуск системи GPS (в першу чергу запускалась для військових цілей, але згодом стала застосовуватись і для цивільних цілей, зокрема в сфері авіаперевезень)\n",
    "\n",
    "* 1990 р. - Запуск космічного телескопа \"Габбл\"\n",
    "<p><a href=\"https://commons.wikimedia.org/wiki/File:HST-SM4.jpeg#/media/File:HST-SM4.jpeg\"><img src=\"https://upload.wikimedia.org/wikipedia/commons/3/3f/HST-SM4.jpeg\" alt=\"The Hubble Space Telescope in orbit\" height=\"600\" width=\"800\"></a><br>Космічний телескоп «Габбл» на орбіті, побачений з космічного корабля «Атлантіс» 2009 року. By Ruffnax (Crew of STS-125) - <a rel=\"nofollow\" class=\"external free\" href=\"https://catalog.archives.gov/OpaAPI/media/23486741/content/stillpix/255-sts/STS125/STS125_ESC_JPG/255-STS-s125e011848.jpg\">http://catalog.archives.gov/OpaAPI/media/23486741/content/stillpix/255-sts/STS125/STS125_ESC_JPG/255-STS-s125e011848.jpg</a>, Public Domain, <a href=\"https://commons.wikimedia.org/w/index.php?curid=6826183\">Link</a></p>\n",
    "\n",
    "<p><a href=\"https://commons.wikimedia.org/wiki/File:Hubble_Space_Telescope_(27946391011).jpg#/media/%D0%A4%D0%B0%D0%B9%D0%BB:Hubble_Space_Telescope_(27946391011).jpg\"><img src=\"https://upload.wikimedia.org/wikipedia/commons/0/08/Hubble_Space_Telescope_%2827946391011%29.jpg\" alt=\"Hubble Space Telescope (27946391011).jpg\" height=\"600\" width=\"900\"></a><br>Космічний телескоп «Габбл» після сервісного обслуговування 1997 року, під час відокремлення від шатлу \"Дискавері\". Автор: <a rel=\"nofollow\" class=\"external text\" href=\"https://www.flickr.com/people/144614754@N02\">NASA Hubble Space Telescope</a> - <a rel=\"nofollow\" class=\"external text\" href=\"https://www.flickr.com/photos/nasahubble/27946391011/\">Hubble Space Telescope</a>, Суспільне надбання (Public Domain), <a href=\"https://commons.wikimedia.org/w/index.php?curid=70818886\">Посилання</a></p>\n"
   ]
  },
  {
   "cell_type": "markdown",
   "metadata": {},
   "source": [
    "* 1992 р. - Відкриття перших екзопланет (екзопланета - це планета, яка плине космічним простором, або обертається навколо якоїсь зорі, але не нашого Сонця) ([Wikipedia](https://uk.wikipedia.org/wiki/%D0%95%D0%BA%D0%B7%D0%BE%D0%BF%D0%BB%D0%B0%D0%BD%D0%B5%D1%82%D0%B0))\n",
    "* 1996 р. - Запуск космічної місії Mars Pathfinder із марсоходом Sojourner (перекладається як \"мандрівник\" або \"подорожній\")\n",
    "\n",
    "<p><a href=\"https://commons.wikimedia.org/wiki/File:Sojourner_on_Mars_PIA01122.jpg#/media/%D0%A4%D0%B0%D0%B9%D0%BB:Sojourner_on_Mars_PIA01122.jpg\"><img src=\"https://upload.wikimedia.org/wikipedia/commons/3/3a/Sojourner_on_Mars_PIA01122.jpg\" alt=\"Sojourner on Mars PIA01122.jpg\" height=\"1170\" width=\"1276\"></a><br>Марсохід Sojourner на Марсі (знімок камерою нерухомої марсіанської станції). Автор: <a href=\"https://en.wikipedia.org/wiki/NASA\" class=\"extiw\" title=\"w:NASA\">NASA</a> - <a rel=\"nofollow\" class=\"external free\" href=\"https://photojournal.jpl.nasa.gov/catalog/PIA01122\">http://photojournal.jpl.nasa.gov/catalog/PIA01122</a>, (Public Domain), <a href=\"https://commons.wikimedia.org/w/index.php?curid=328753\">Посилання</a></p>\n",
    "\n",
    "* 1998 р. - Відкриття прискореного розширення Всесвіту ([Wikipedia](https://uk.wikipedia.org/wiki/%D0%9F%D1%80%D0%B8%D1%81%D0%BA%D0%BE%D1%80%D0%B5%D0%BD%D0%BD%D1%8F_%D1%80%D0%BE%D0%B7%D1%88%D0%B8%D1%80%D0%B5%D0%BD%D0%BD%D1%8F_%D0%92%D1%81%D0%B5%D1%81%D0%B2%D1%96%D1%82%D1%83))\n",
    "\n",
    "<p><a href=\"https://commons.wikimedia.org/wiki/File:Lambda-Cold_Dark_Matter,_Accelerated_Expansion_of_the_Universe,_Big_Bang-Inflation.jpg#/media/%D0%A4%D0%B0%D0%B9%D0%BB:Lambda-Cold_Dark_Matter,_Accelerated_Expansion_of_the_Universe,_Big_Bang-Inflation.jpg\"><img src=\"https://upload.wikimedia.org/wikipedia/commons/c/c2/Lambda-Cold_Dark_Matter%2C_Accelerated_Expansion_of_the_Universe%2C_Big_Bang-Inflation.jpg\" alt=\"Lambda-Cold Dark Matter, Accelerated Expansion of the Universe, Big Bang-Inflation.jpg\" height=\"600\" width=\"1100\"></a><br>Прискорення розширення всесвіту у моделі Λ-CDM. Лінія часу на цій ілюстрації пролягає від моменту Великого Вибуху (приблизно 13,7 мільярдів років тому) до нинішнього часу. Автор: Design Alex Mittelmann, Coldcreation, <a href=\"https://creativecommons.org/licenses/by-sa/3.0\" title=\"Creative Commons Attribution-Share Alike 3.0\">CC BY-SA 3.0</a>, <a href=\"https://commons.wikimedia.org/w/index.php?curid=31985853\">Посилання</a></p>\n"
   ]
  },
  {
   "cell_type": "markdown",
   "metadata": {},
   "source": [
    "**XXI століття**\n",
    "\n",
    "* 2012 р. - Марсохід Curiosity досягає Марса\n",
    "* 2015 р. - Перше пряме виявлення гравітаційних хвиль\n",
    "* 2019 р. - Перше зображення чорної діри (M87*)\n",
    "* 2021 р. - Запуск космічного телескопа \"Джеймс Вебб\"\n",
    "* 2023 р. - Перші наукові спостереження телескопа \"Джеймс Вебб\"\n",
    "\n",
    "---"
   ]
  }
 ],
 "metadata": {
  "language_info": {
   "name": "python"
  }
 },
 "nbformat": 4,
 "nbformat_minor": 2
}
