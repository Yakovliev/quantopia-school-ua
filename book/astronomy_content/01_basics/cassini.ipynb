{
 "cells": [
  {
   "cell_type": "markdown",
   "metadata": {},
   "source": [
    "## Великий фінал: останній політ крізь кільця"
   ]
  },
  {
   "cell_type": "markdown",
   "metadata": {},
   "source": [
    "<p>\n",
    "<img src=\"../images/Cassini_grand_finale.jpg\", width=\"100%\">\n",
    "<br>\n",
    "Image: Illustration of Cassini breaking up in Saturn's atmosphere on 15 September 2017, concluding its 13-year mission exploring the gas giant, its rings and moons. Credit: ©ESA/NASA/JPL-Caltech.\n",
    "<a href=\"https://www.esa.int/ESA_Multimedia/Images/2017/09/Cassini_grand_finale2\">Source</a>\n",
    "</p>"
   ]
  },
  {
   "cell_type": "markdown",
   "metadata": {},
   "source": [
    "* 1997 р. - Запуск космічної місії \"Кассіні-Гюйгенс\" ([Wikipedia](https://uk.wikipedia.org/wiki/%D0%9A%D0%B0%D1%81%D1%81%D1%96%D0%BD%D1%96_%E2%80%94_%D0%93%D1%8E%D0%B9%D0%B3%D0%B5%D0%BD%D1%81))\n",
    "\n",
    "* 2004 р. - Космічні зонди \"Кассіні\" та \"Гюйгенс\" досягнули системи Сатурна. Це був перший штучний супутник Сатурна. \"Гюйгенс\" відділився від орбітального апарата 25 грудня 2004 року і досягнув супутника Сатурна - Титана - 14 січня 2005 року, увійшов у його атмосферу й опустився на поверхню. Космічний зонд успішно передавав дані на Землю, використовуючи орбітальний зонд \"Кассіні\" як передавач (реле). Це була перша посадка в зовнішній частині Сонячної системи. \"Кассіні\" літав в системі Сатурна і збирав та передавав дані понад 10 років. У квітні 2017 року на апараті практично вичерпалося пальне, потрібне для корекції орбіти. Аби уникнути неконтрольнованого зіткнення із супутниками було ухвалене рішення спрямувати апарат в атмосферу Сатурна. Кассіні 29 разів проходив між Сатурном та його кільцями. На фінальній орбіті, Кассіні занурився в Сатурн 15 вересня 2017 року, і близько 14:55 за київським часом, \"Кассіні\", увійшовши в атмосферу, згорів. Останні фотографії передані Кассіні: https://science.nasa.gov/missions/cassini/cassinis-final-images\n",
    "\n",
    "Cassini's Grand Finale:\n",
    "<iframe width=\"1000\" height=\"600\" src=\"https://www.youtube.com/embed/xrGAQCq9BMU?si=z1YgGcx6mdeO6OsY\" title=\"YouTube video player\" frameborder=\"0\" allow=\"accelerometer; autoplay; clipboard-write; encrypted-media; gyroscope; picture-in-picture; web-share\" referrerpolicy=\"strict-origin-when-cross-origin\" allowfullscreen></iframe>\n",
    "\n",
    "<p><a href=\"https://commons.wikimedia.org/wiki/File:Cassini-Huygens_is_installed_to_the_payload_adapter.jpg#/media/%D0%A4%D0%B0%D0%B9%D0%BB:Cassini-Huygens_is_installed_to_the_payload_adapter.jpg\"><img src=\"https://upload.wikimedia.org/wikipedia/commons/6/68/Cassini-Huygens_is_installed_to_the_payload_adapter.jpg\" alt=\"Cassini-Huygens is installed to the payload adapter.jpg\" height=\"600\" width=\"400\"></a><br>Монтаж Кассіні — Гюйгенс. (Public Domain), <a href=\"https://commons.wikimedia.org/w/index.php?curid=844695\">Посилання</a></p>\n",
    "\n",
    "<p><a href=\"https://commons.wikimedia.org/wiki/File:Cassini_spacecraft_instruments_1_ukr.png#/media/%D0%A4%D0%B0%D0%B9%D0%BB:Cassini_spacecraft_instruments_1_ukr.png\"><img src=\"https://upload.wikimedia.org/wikipedia/commons/4/4f/Cassini_spacecraft_instruments_1_ukr.png\" alt=\"Cassini spacecraft instruments 1 ukr.png\" height=\"477\" width=\"739\"></a><br>Наукові прилади і основне обладнання «Кассіні». (Public Domain), <a href=\"https://commons.wikimedia.org/w/index.php?curid=39303186\">Посилання</a></p>\n",
    "\n",
    "<p><a href=\"https://commons.wikimedia.org/wiki/File:PIA21611_-_Saturn%27s_Hexagon_as_Summer_Solstice_Approaches.gif#/media/%D0%A4%D0%B0%D0%B9%D0%BB:PIA21611_-_Saturn's_Hexagon_as_Summer_Solstice_Approaches.gif\"><img src=\"https://upload.wikimedia.org/wikipedia/commons/0/0c/PIA21611_-_Saturn%27s_Hexagon_as_Summer_Solstice_Approaches.gif\" alt=\"PIA21611 - Saturn's Hexagon as Summer Solstice Approaches.gif\" height=\"600\" width=\"1200\"></a><br>Зміна кольору шестикутника Сатурна: 2013 і 2017 роки. Автор: NASA/JPL-Caltech/Space Science Institute/Hampton University - <a rel=\"nofollow\" class=\"external text\" href=\"https://photojournal.jpl.nasa.gov/catalog/PIA21611\">Catalog page</a>, (Public Domain), <a href=\"https://commons.wikimedia.org/w/index.php?curid=59288022\">Посилання</a></p>\n",
    "\n",
    "<p><a href=\"https://commons.wikimedia.org/wiki/File:8423_20181_1saturn2016.jpg#/media/%D0%A4%D0%B0%D0%B9%D0%BB:8423_20181_1saturn2016.jpg\"><img src=\"https://upload.wikimedia.org/wikipedia/commons/e/ea/8423_20181_1saturn2016.jpg\" alt=\"8423 20181 1saturn2016.jpg\" height=\"600\" width=\"1200\"></a><br>Сатурн. Світлина, зроблена \"Кассіні\", 2016. Автор: Credit: NASA/JPL-Caltech/SSI, (Public Domain), <a href=\"https://commons.wikimedia.org/w/index.php?curid=54061845\">Посилання</a></p>"
   ]
  }
 ],
 "metadata": {
  "language_info": {
   "name": "python"
  }
 },
 "nbformat": 4,
 "nbformat_minor": 2
}
