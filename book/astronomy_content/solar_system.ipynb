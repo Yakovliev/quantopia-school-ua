{
 "cells": [
  {
   "cell_type": "markdown",
   "metadata": {},
   "source": [
    "https://science.nasa.gov/solar-system/"
   ]
  },
  {
   "cell_type": "markdown",
   "metadata": {},
   "source": [
    "3D мапа сонячної системи за прямим посиланням NASA:\n",
    "\n",
    "https://eyes.nasa.gov/apps/solar-system/#/sc_parker_solar_probe?embed=true"
   ]
  },
  {
   "cell_type": "markdown",
   "metadata": {},
   "source": [
    "<iframe \n",
    "  width=\"100%\" \n",
    "  height=\"600\" \n",
    "  src=\"https://eyes.nasa.gov/apps/solar-system/#/home?embed=true\" \n",
    "  title=\"Solar System 3D\" \n",
    "  frameborder=\"0\"\n",
    "  allowfullscreen>\n",
    "</iframe>"
   ]
  }
 ],
 "metadata": {
  "language_info": {
   "name": "python"
  }
 },
 "nbformat": 4,
 "nbformat_minor": 2
}
