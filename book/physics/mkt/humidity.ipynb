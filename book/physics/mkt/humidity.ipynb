{
 "cells": [
  {
   "cell_type": "markdown",
   "id": "35a2e229",
   "metadata": {},
   "source": [
    "# Вологість повітря (в процесі)"
   ]
  },
  {
   "cell_type": "markdown",
   "id": "4d7852e6",
   "metadata": {},
   "source": [
    "## Додаткові матеріали\n",
    "\n",
    "* https://uk.wikipedia.org/wiki/Фазовий_перехід\n",
    "\n",
    "\n",
    "## Додаткові матеріали (англійською)\n",
    "\n",
    "* https://en.wikipedia.org/wiki/Phase_transition\n",
    "\n"
   ]
  }
 ],
 "metadata": {
  "language_info": {
   "name": "python"
  }
 },
 "nbformat": 4,
 "nbformat_minor": 5
}
