{
 "cells": [
  {
   "cell_type": "markdown",
   "id": "e9aa2a67",
   "metadata": {},
   "source": [
    "# Звукові хвилі"
   ]
  },
  {
   "cell_type": "markdown",
   "id": "5da379f3",
   "metadata": {},
   "source": []
  },
  {
   "cell_type": "markdown",
   "id": "0f502314",
   "metadata": {},
   "source": [
    "## Додаткові матеріали\n",
    "\n",
    "* \n",
    "\n",
    "## Додаткові матеріали (англійською)\n",
    "\n",
    "* "
   ]
  }
 ],
 "metadata": {
  "language_info": {
   "name": "python"
  }
 },
 "nbformat": 4,
 "nbformat_minor": 5
}
