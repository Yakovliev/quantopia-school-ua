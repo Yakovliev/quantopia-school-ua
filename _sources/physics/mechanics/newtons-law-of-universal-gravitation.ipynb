{
 "cells": [
  {
   "cell_type": "markdown",
   "id": "73a67bd4",
   "metadata": {},
   "source": [
    "# Закон всесвітнього тяжіння"
   ]
  },
  {
   "cell_type": "markdown",
   "id": "c2a86670",
   "metadata": {},
   "source": [
    "## Додаткові матеріали\n"
   ]
  },
  {
   "cell_type": "markdown",
   "id": "484642fe",
   "metadata": {},
   "source": [
    "## Додаткові матеріали (англійською)\n",
    "\n",
    "* https://en.wikipedia.org/wiki/Newton%27s_law_of_universal_gravitation"
   ]
  }
 ],
 "metadata": {
  "language_info": {
   "name": "python"
  }
 },
 "nbformat": 4,
 "nbformat_minor": 5
}
