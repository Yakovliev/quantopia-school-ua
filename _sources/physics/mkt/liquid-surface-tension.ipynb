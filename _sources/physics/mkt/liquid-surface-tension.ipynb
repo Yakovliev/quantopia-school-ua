{
 "cells": [
  {
   "cell_type": "markdown",
   "id": "62ef28e2",
   "metadata": {},
   "source": [
    "# Поверхневий натяг рідини та капілярні явища (в процесі)"
   ]
  },
  {
   "cell_type": "markdown",
   "id": "e106cc54",
   "metadata": {},
   "source": [
    "## Додаткові матеріали\n",
    "\n",
    "* \n",
    "\n",
    "## Додаткові матеріали (англійською)\n",
    "\n",
    "* \n"
   ]
  }
 ],
 "metadata": {
  "language_info": {
   "name": "python"
  }
 },
 "nbformat": 4,
 "nbformat_minor": 5
}
