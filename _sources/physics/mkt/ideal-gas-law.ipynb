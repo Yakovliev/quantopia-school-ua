{
 "cells": [
  {
   "cell_type": "markdown",
   "id": "fd5cfa38",
   "metadata": {},
   "source": [
    "# Рівняння стану ідеального газу"
   ]
  },
  {
   "cell_type": "markdown",
   "id": "c3dd8554",
   "metadata": {},
   "source": [
    "## Додаткові матеріали\n",
    "\n",
    "* https://uk.wikipedia.org/wiki/Кінетична_теорія\n",
    "* https://uk.wikipedia.org/wiki/Рівняння_стану_ідеального_газу\n",
    "* https://uk.wikipedia.org/wiki/Парціальний_тиск\n",
    "* https://uk.wikipedia.org/wiki/Реальний_газ\n",
    "* https://uk.wikipedia.org/wiki/Нормальні_умови\n",
    "\n",
    "\n",
    "## Додаткові матеріали (англійською)\n",
    "\n",
    "* https://en.wikipedia.org/wiki/Kinetic_theory_of_gases\n",
    "* https://en.wikipedia.org/wiki/Ideal_gas_law\n",
    "* https://en.wikipedia.org/wiki/Partial_pressure\n",
    "* https://en.wikipedia.org/wiki/Dalton%27s_law\n",
    "* https://en.wikipedia.org/wiki/Real_gas\n",
    "* https://en.wikipedia.org/wiki/Standard_temperature_and_pressure\n"
   ]
  }
 ],
 "metadata": {
  "language_info": {
   "name": "python"
  }
 },
 "nbformat": 4,
 "nbformat_minor": 5
}
