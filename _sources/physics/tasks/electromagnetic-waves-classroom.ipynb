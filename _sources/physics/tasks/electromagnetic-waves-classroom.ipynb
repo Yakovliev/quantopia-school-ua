{
 "cells": [
  {
   "cell_type": "markdown",
   "id": "f2fd058d",
   "metadata": {},
   "source": [
    "# Електромагнітні коливання та хвилі. Задачі"
   ]
  }
 ],
 "metadata": {
  "language_info": {
   "name": "python"
  }
 },
 "nbformat": 4,
 "nbformat_minor": 5
}
