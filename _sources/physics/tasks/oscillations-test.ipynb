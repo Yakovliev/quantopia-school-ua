{
 "cells": [
  {
   "cell_type": "markdown",
   "id": "789fc6d0",
   "metadata": {},
   "source": [
    "# Механічні коливання. Самостійна робота"
   ]
  }
 ],
 "metadata": {
  "language_info": {
   "name": "python"
  }
 },
 "nbformat": 4,
 "nbformat_minor": 5
}
