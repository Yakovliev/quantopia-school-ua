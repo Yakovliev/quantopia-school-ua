{
 "cells": [
  {
   "cell_type": "markdown",
   "id": "012f30ae",
   "metadata": {},
   "source": [
    "# Планетарний захист. Система останнього сповіщення (Preview)"
   ]
  },
  {
   "cell_type": "markdown",
   "id": "121173fa",
   "metadata": {},
   "source": [
    "Примітка: ця сторінка перебуває в розробці"
   ]
  },
  {
   "cell_type": "markdown",
   "id": "3ccbd24f",
   "metadata": {},
   "source": [
    "## Додаткові джерела (українською)\n",
    "\n",
    "* [Asteroid Terrestrial-impact Last Alert System](https://uk.wikipedia.org/wiki/ATLAS_(система_телескопів))\n",
    "* [Захист від астероїдів](https://uk.wikipedia.org/wiki/Захист_від_астероїдів)\n",
    "* [Пояс астероїдів](https://uk.m.wikipedia.org/wiki/%D0%9F%D0%BE%D1%8F%D1%81_%D0%B0%D1%81%D1%82%D0%B5%D1%80%D0%BE%D1%97%D0%B4%D1%96%D0%B2)\n",
    "* [Точки Лагранжа](https://uk.m.wikipedia.org/wiki/%D0%A2%D0%BE%D1%87%D0%BA%D0%B8_%D0%9B%D0%B0%D0%B3%D1%80%D0%B0%D0%BD%D0%B6%D0%B0)"
   ]
  },
  {
   "cell_type": "markdown",
   "id": "e1f6a97c",
   "metadata": {},
   "source": [
    "## Додаткові джерела (англійською)\n",
    "\n",
    "* [Asteroid Terrestrial-impact Last Alert System](https://en.wikipedia.org/wiki/Asteroid_Terrestrial-impact_Last_Alert_System)\n",
    "* [2024 YR4 Asteroid](https://science.nasa.gov/solar-system/asteroids/2024-yr4/)\n",
    "* [Double Asteroid Redirection Test](https://en.wikipedia.org/wiki/Double_Asteroid_Redirection_Test)\n",
    "* [List of near-Earth object observation projects](https://en.wikipedia.org/wiki/List_of_near-Earth_object_observation_projects)"
   ]
  }
 ],
 "metadata": {
  "language_info": {
   "name": "python"
  }
 },
 "nbformat": 4,
 "nbformat_minor": 5
}
