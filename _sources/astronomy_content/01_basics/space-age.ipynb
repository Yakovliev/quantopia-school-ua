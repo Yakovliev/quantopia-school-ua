{
 "cells": [
  {
   "cell_type": "markdown",
   "metadata": {},
   "source": [
    "# Початок космічної ери"
   ]
  },
  {
   "cell_type": "markdown",
   "metadata": {},
   "source": [
    "Освоєння космосу стало одним із найвизначніших досягнень людства XX століття. Мрія про польоти до зірок, яка тисячоліттями існувала лише в міфах та легендах, перетворилася на реальність завдяки науковому та технологічному прогресу. Перші кроки в космос були зроблені в контексті післявоєнного протистояння двох наддержав - США та СРСР, що призвело до так званої \"космічної гонки\".\n",
    "\n",
    "## Перші супутники\n",
    "\n",
    "**4 жовтня 1957** – запуск першого штучного супутника Землі \"[Супутник-1](https://uk.wikipedia.org/wiki/Перший_штучний_супутник_Землі)\" (СРСР). Простий металевий шар із радіопередавачем, сигнали якого могли приймати радіолюбителі по всьому світу."
   ]
  },
  {
   "cell_type": "markdown",
   "metadata": {},
   "source": [
    "<p><img src=\"https://upload.wikimedia.org/wikipedia/commons/b/be/Sputnik_asm.jpg\" alt=\"Sputnik asm.jpg\" height=\"600\" width=\"732\"><br>Image. Копія \"Супутника-1\", першого в світі штучного супутника, виведеного у відкритий космос: копія зберігається в Національному музеї авіації та космонавтики США. Автор: NSSDC, NASAм<a rel=\"nofollow\" class=\"external autonumber\" href=\"https://apod.nasa.gov/apod/ap071004.html\">https://apod.nasa.gov/apod/ap071004.html</a>, Суспільне надбання (Public Domain), <a href=\"https://commons.wikimedia.org/w/index.php?curid=1129363\">Посилання</a></p>"
   ]
  },
  {
   "cell_type": "markdown",
   "metadata": {},
   "source": [
    "**3 листопада 1957** - запуск \"[Супутника-2](https://uk.wikipedia.org/wiki/Супутник-2)\" з собакою Лайкою на борту - перша жива істота в космосі.\n",
    "\n",
    "**1 лютого 1958** - запуск першого американського супутника \"[Експлорер-1](https://uk.wikipedia.org/wiki/Експлорер-1)\", який виявив радіаційні [пояси Ван Аллена](https://uk.wikipedia.org/wiki/Радіаційні_пояси)."
   ]
  },
  {
   "cell_type": "markdown",
   "metadata": {},
   "source": [
    "<p><img src=\"https://upload.wikimedia.org/wikipedia/commons/7/73/Explorer1.jpg\" alt=\"Explorer1.jpg\" height=\"410\" width=\"640\"><br>Image. Супутник Explorer 1. Автор: NASA - <a rel=\"nofollow\" class=\"external autonumber\" href=\"https://www-istp.gsfc.nasa.gov/Education/Figures/Explorer.gif\">https://www-istp.gsfc.nasa.gov/Education/Figures/Explorer.gif</a>, Суспільне надбання (Public Domain), <a href=\"https://commons.wikimedia.org/w/index.php?curid=404760\">Посилання</a></p>"
   ]
  },
  {
   "cell_type": "markdown",
   "metadata": {},
   "source": [
    "<p><img src=\"https://upload.wikimedia.org/wikipedia/commons/b/bf/Van_Allen_radiation_belt_uk.svg\" alt=\"Van Allen radiation belt uk.svg\" height=\"275\" width=\"500\"><br>Image. Радіаційні пояси Землі (пояси Ван Аллена). Суспільне надбання (Public Domain), <a href=\"https://commons.wikimedia.org/w/index.php?curid=10774122\">Посилання</a></p>"
   ]
  },
  {
   "cell_type": "markdown",
   "metadata": {},
   "source": [
    "## Перші дослідження Місяця та планет\n",
    "\n",
    "**1959** – радянська програма \"Луна\": \"[Луна-1](https://uk.wikipedia.org/wiki/Луна-1)\" пролетіла повз Місяць, \"[Луна-2](https://uk.wikipedia.org/wiki/Луна-2)\" досягла поверхні Місяця, \"[Луна-3](https://uk.wikipedia.org/wiki/Луна-3)\" сфотографувала зворотний бік Місяця.\n",
    "**1962** – американський \"[Марінер-2](https://uk.wikipedia.org/wiki/Марінер-2)\" досяг Венери – перший успішний міжпланетний політ.\n",
    "\n",
    "\"Марінер-2\" був першим у світі успішним міжпланетним кораблем. Марінер-2, запущений 27 серпня 1962 року на ракеті Atlas-Agena, пройшов на відстані приблизно 34 000 кілометрів (21 000 миль) від Венери, надіславши назад цінну нову інформацію про міжпланетний простір і атмосферу Венери. Марінер-2 вперше зафіксував температуру на Венері, виявивши дуже гарячу атмосферу планети приблизно 500 градусів за Цельсієм (900 градусів за Фаренгейтом). Експеримент із сонячним вітром космічного корабля вперше виміряв щільність, швидкість, склад і зміну сонячного вітру в часі."
   ]
  },
  {
   "cell_type": "markdown",
   "metadata": {},
   "source": [
    "<p><img src=\"https://upload.wikimedia.org/wikipedia/commons/9/90/Mariner_2.jpg\" alt=\"дата запуску: 27 серпня 1962 року\" height=\"600\" width=\"747\"><br>Автор: NASA/Jet Propulsion Laboratory - <a rel=\"nofollow\" class=\"external free\" href=\"https://photojournal.jpl.nasa.gov/catalog/PIA04594\">https://photojournal.jpl.nasa.gov/catalog/PIA04594</a>, Суспільне надбання (Public Domain), <a href=\"https://commons.wikimedia.org/w/index.php?curid=1213929\">Посилання</a></p>"
   ]
  },
  {
   "cell_type": "markdown",
   "metadata": {},
   "source": [
    "## Пілотовані космічні польоти\n",
    "\n",
    "**Перші космонавти**\n",
    "\n",
    "- **12 квітня 1961** – Юрій Гагарін на кораблі \"[Восток-1](https://uk.wikipedia.org/wiki/Восток-1)\" здійснив перший в історії людства орбітальний політ.\n",
    "- **5 травня 1961** – [Алан Шепард](https://uk.wikipedia.org/wiki/Алан_Шепард) став першим американцем у космосі (суборбітальний політ, 15 хвилин).\n",
    "- **20 лютого 1962** – Джон Гленн здійснив перший американський орбітальний політ на кораблі \"[Меркурій-Атлас 6](https://uk.wikipedia.org/wiki/Меркурій-Атлас-6)\".\n",
    "- **18 березня 1965** – Олексій Леонов здійснив перший вихід людини у відкритий космос (12 хвилин).\n",
    "\n",
    "**Програми \"Восток\", \"Меркурій\", \"Восход\" та \"Джеміні\"**\n",
    "\n",
    "- Радянська програма \"[Восток](https://uk.wikipedia.org/wiki/Восток_(космічна_програма))\" (1960-1963) – 6 успішних одномісних польотів.\n",
    "- Американська програма \"[Меркурій](https://uk.wikipedia.org/wiki/Меркурій_(космічна_програма))\" (1961-1963) – 6 пілотованих польотів.\n",
    "- Радянська програма \"[Восход](https://uk.wikipedia.org/wiki/Восход_(космічна_програма))\" (1964-1966) – перший багатомісний корабель (до 3 космонавтів).\n",
    "- Американська програма \"[Джеміні](https://uk.wikipedia.org/wiki/Джеміні_(космічна_програма))\" (1965-1966) – 12 пілотованих польотів, відпрацювання техніки зближення і стикування кораблів, тривалих польотів."
   ]
  },
  {
   "cell_type": "markdown",
   "metadata": {},
   "source": [
    "<p><img src=\"https://upload.wikimedia.org/wikipedia/commons/f/fc/Gemini_Profiles.jpg\" alt=\"Gemini Profiles.jpg\" height=\"500\" width=\"966\"></a><br> Image. Запуски \"Джеміні\" (з 1-го по 12-й). Суспільне надбання (Public Domain), <a href=\"https://commons.wikimedia.org/w/index.php?curid=2131843\">Посилання</a></p>"
   ]
  },
  {
   "cell_type": "markdown",
   "metadata": {},
   "source": [
    "## Місячна гонка\n",
    "\n",
    "**Програма \"Аполлон\"**\n",
    "\n",
    "- **21 грудня 1968** – \"Аполлон-8\" з екіпажем (Френк Борман, Джеймс Ловелл, Вільям Андерс) став першим пілотованим кораблем, що облетів Місяць.\n",
    "- **20-21 липня 1969** – \"Аполлон-11\": Ніл Армстронг і Базз Олдрін здійснили першу в історії посадку на Місяць. Знаменита фраза Армстронга: \"Це малий крок для людини, але величезний стрибок для людства\".\n",
    "- **1969-1972** – у рамках програми \"Аполлон\" було здійснено 6 успішних посадок на Місяць (Аполлон-11, 12, 14, 15, 16, 17), загалом 12 астронавтів побували на поверхні Місяця.\n"
   ]
  },
  {
   "cell_type": "markdown",
   "metadata": {},
   "source": [
    "<p><img src=\"https://upload.wikimedia.org/wikipedia/commons/9/98/Aldrin_Apollo_11_original.jpg\" alt=\"Aldrin Apollo 11 original.jpg\" height=\"600\" width=\"596\"><br>Image. Базз Олдрін позує на Місяці, даючи Армстронгу змогу сфотографувати його і власне відображення у шоломі Базза. Автор: <a href=\"https://en.wikipedia.org/wiki/Neil_Armstrong\" class=\"extiw\" title=\"en:Neil Armstrong\">Neil Armstrong</a> - <a rel=\"nofollow\" class=\"external text\" href=\"https://images.nasa.gov/details-as11-40-5903\">NASA Image and Video Library</a>, Суспільне надбання (Public Domain), <a href=\"https://commons.wikimedia.org/w/index.php?curid=3847764\">Посилання</a></p>"
   ]
  },
  {
   "cell_type": "markdown",
   "metadata": {},
   "source": [
    "## Міжнародне співробітництво\n",
    "\n",
    "**15 липня 1975** – спільний політ \"[Союз-Аполлон](https://uk.wikipedia.org/wiki/Союз_—_Аполлон)\", перший міжнародний космічний проект між СРСР і США, символізував завершення епохи \"космічної гонки\" і початок ери співпраці. 17 липня було виконано стикування \"Союзу\" й \"Аполлона\". 19 липня проведено розстикування кораблів, а після 2-х витків навколо Землі стикування повторено, ще через 2 витки кораблі остаточно розстикувалися.\n",
    "\n",
    "## Перші орбітальні станції\n",
    "\n",
    "- **19 квітня 1971** – запуск першої орбітальної станції \"Салют-1\" (СРСР).\n",
    "- **14 травня 1973** – запуск американської станції \"Скайлеб\".\n",
    "- Ці ранні станції стали прототипами для подальшого розвитку довготривалих космічних поселень."
   ]
  }
 ],
 "metadata": {
  "kernelspec": {
   "display_name": "venv",
   "language": "python",
   "name": "python3"
  },
  "language_info": {
   "name": "python",
   "version": "3.9.1"
  }
 },
 "nbformat": 4,
 "nbformat_minor": 2
}
